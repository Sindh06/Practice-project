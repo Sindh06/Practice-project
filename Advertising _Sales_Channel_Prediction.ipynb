{
 "cells": [
  {
   "cell_type": "markdown",
   "id": "795f30c0",
   "metadata": {},
   "source": [
    "Submitted by:SINDHU SHREE N\n",
    "\n",
    "Batch Number:1832"
   ]
  },
  {
   "cell_type": "code",
   "execution_count": 1,
   "id": "f520cdb5",
   "metadata": {},
   "outputs": [],
   "source": [
    "#importing required libraries\n",
    "import pandas as pd\n",
    "import numpy as np\n",
    "import seaborn as sns\n",
    "import matplotlib.pyplot as plt\n",
    "from scipy.stats import zscore\n",
    "from sklearn.linear_model import LinearRegression\n",
    "from sklearn.model_selection import train_test_split\n",
    "from sklearn.model_selection import cross_val_score\n",
    "import pickle\n",
    "import warnings\n",
    "warnings.filterwarnings(\"ignore\")"
   ]
  },
  {
   "cell_type": "markdown",
   "id": "bf1b85db",
   "metadata": {},
   "source": [
    "# Examining the data:"
   ]
  },
  {
   "cell_type": "code",
   "execution_count": 2,
   "id": "2dd94a3a",
   "metadata": {},
   "outputs": [
    {
     "data": {
      "text/html": [
       "<div>\n",
       "<style scoped>\n",
       "    .dataframe tbody tr th:only-of-type {\n",
       "        vertical-align: middle;\n",
       "    }\n",
       "\n",
       "    .dataframe tbody tr th {\n",
       "        vertical-align: top;\n",
       "    }\n",
       "\n",
       "    .dataframe thead th {\n",
       "        text-align: right;\n",
       "    }\n",
       "</style>\n",
       "<table border=\"1\" class=\"dataframe\">\n",
       "  <thead>\n",
       "    <tr style=\"text-align: right;\">\n",
       "      <th></th>\n",
       "      <th>Unnamed: 0</th>\n",
       "      <th>TV</th>\n",
       "      <th>radio</th>\n",
       "      <th>newspaper</th>\n",
       "      <th>sales</th>\n",
       "    </tr>\n",
       "  </thead>\n",
       "  <tbody>\n",
       "    <tr>\n",
       "      <th>0</th>\n",
       "      <td>1</td>\n",
       "      <td>230.1</td>\n",
       "      <td>37.8</td>\n",
       "      <td>69.2</td>\n",
       "      <td>22.1</td>\n",
       "    </tr>\n",
       "    <tr>\n",
       "      <th>1</th>\n",
       "      <td>2</td>\n",
       "      <td>44.5</td>\n",
       "      <td>39.3</td>\n",
       "      <td>45.1</td>\n",
       "      <td>10.4</td>\n",
       "    </tr>\n",
       "    <tr>\n",
       "      <th>2</th>\n",
       "      <td>3</td>\n",
       "      <td>17.2</td>\n",
       "      <td>45.9</td>\n",
       "      <td>69.3</td>\n",
       "      <td>9.3</td>\n",
       "    </tr>\n",
       "    <tr>\n",
       "      <th>3</th>\n",
       "      <td>4</td>\n",
       "      <td>151.5</td>\n",
       "      <td>41.3</td>\n",
       "      <td>58.5</td>\n",
       "      <td>18.5</td>\n",
       "    </tr>\n",
       "    <tr>\n",
       "      <th>4</th>\n",
       "      <td>5</td>\n",
       "      <td>180.8</td>\n",
       "      <td>10.8</td>\n",
       "      <td>58.4</td>\n",
       "      <td>12.9</td>\n",
       "    </tr>\n",
       "  </tbody>\n",
       "</table>\n",
       "</div>"
      ],
      "text/plain": [
       "   Unnamed: 0     TV  radio  newspaper  sales\n",
       "0           1  230.1   37.8       69.2   22.1\n",
       "1           2   44.5   39.3       45.1   10.4\n",
       "2           3   17.2   45.9       69.3    9.3\n",
       "3           4  151.5   41.3       58.5   18.5\n",
       "4           5  180.8   10.8       58.4   12.9"
      ]
     },
     "execution_count": 2,
     "metadata": {},
     "output_type": "execute_result"
    }
   ],
   "source": [
    "df=pd.read_csv(\"advertising_channels.csv\")\n",
    "df.head()"
   ]
  },
  {
   "cell_type": "code",
   "execution_count": 3,
   "id": "cfeed862",
   "metadata": {},
   "outputs": [
    {
     "data": {
      "text/html": [
       "<div>\n",
       "<style scoped>\n",
       "    .dataframe tbody tr th:only-of-type {\n",
       "        vertical-align: middle;\n",
       "    }\n",
       "\n",
       "    .dataframe tbody tr th {\n",
       "        vertical-align: top;\n",
       "    }\n",
       "\n",
       "    .dataframe thead th {\n",
       "        text-align: right;\n",
       "    }\n",
       "</style>\n",
       "<table border=\"1\" class=\"dataframe\">\n",
       "  <thead>\n",
       "    <tr style=\"text-align: right;\">\n",
       "      <th></th>\n",
       "      <th>Unnamed: 0</th>\n",
       "      <th>TV</th>\n",
       "      <th>radio</th>\n",
       "      <th>newspaper</th>\n",
       "      <th>sales</th>\n",
       "    </tr>\n",
       "  </thead>\n",
       "  <tbody>\n",
       "    <tr>\n",
       "      <th>195</th>\n",
       "      <td>196</td>\n",
       "      <td>38.2</td>\n",
       "      <td>3.7</td>\n",
       "      <td>13.8</td>\n",
       "      <td>7.6</td>\n",
       "    </tr>\n",
       "    <tr>\n",
       "      <th>196</th>\n",
       "      <td>197</td>\n",
       "      <td>94.2</td>\n",
       "      <td>4.9</td>\n",
       "      <td>8.1</td>\n",
       "      <td>9.7</td>\n",
       "    </tr>\n",
       "    <tr>\n",
       "      <th>197</th>\n",
       "      <td>198</td>\n",
       "      <td>177.0</td>\n",
       "      <td>9.3</td>\n",
       "      <td>6.4</td>\n",
       "      <td>12.8</td>\n",
       "    </tr>\n",
       "    <tr>\n",
       "      <th>198</th>\n",
       "      <td>199</td>\n",
       "      <td>283.6</td>\n",
       "      <td>42.0</td>\n",
       "      <td>66.2</td>\n",
       "      <td>25.5</td>\n",
       "    </tr>\n",
       "    <tr>\n",
       "      <th>199</th>\n",
       "      <td>200</td>\n",
       "      <td>232.1</td>\n",
       "      <td>8.6</td>\n",
       "      <td>8.7</td>\n",
       "      <td>13.4</td>\n",
       "    </tr>\n",
       "  </tbody>\n",
       "</table>\n",
       "</div>"
      ],
      "text/plain": [
       "     Unnamed: 0     TV  radio  newspaper  sales\n",
       "195         196   38.2    3.7       13.8    7.6\n",
       "196         197   94.2    4.9        8.1    9.7\n",
       "197         198  177.0    9.3        6.4   12.8\n",
       "198         199  283.6   42.0       66.2   25.5\n",
       "199         200  232.1    8.6        8.7   13.4"
      ]
     },
     "execution_count": 3,
     "metadata": {},
     "output_type": "execute_result"
    }
   ],
   "source": [
    "df.tail()"
   ]
  },
  {
   "cell_type": "code",
   "execution_count": 4,
   "id": "a5272078",
   "metadata": {},
   "outputs": [
    {
     "data": {
      "text/html": [
       "<div>\n",
       "<style scoped>\n",
       "    .dataframe tbody tr th:only-of-type {\n",
       "        vertical-align: middle;\n",
       "    }\n",
       "\n",
       "    .dataframe tbody tr th {\n",
       "        vertical-align: top;\n",
       "    }\n",
       "\n",
       "    .dataframe thead th {\n",
       "        text-align: right;\n",
       "    }\n",
       "</style>\n",
       "<table border=\"1\" class=\"dataframe\">\n",
       "  <thead>\n",
       "    <tr style=\"text-align: right;\">\n",
       "      <th></th>\n",
       "      <th>Unnamed: 0</th>\n",
       "      <th>TV</th>\n",
       "      <th>radio</th>\n",
       "      <th>newspaper</th>\n",
       "      <th>sales</th>\n",
       "    </tr>\n",
       "  </thead>\n",
       "  <tbody>\n",
       "    <tr>\n",
       "      <th>122</th>\n",
       "      <td>123</td>\n",
       "      <td>224.0</td>\n",
       "      <td>2.4</td>\n",
       "      <td>15.6</td>\n",
       "      <td>11.6</td>\n",
       "    </tr>\n",
       "    <tr>\n",
       "      <th>123</th>\n",
       "      <td>124</td>\n",
       "      <td>123.1</td>\n",
       "      <td>34.6</td>\n",
       "      <td>12.4</td>\n",
       "      <td>15.2</td>\n",
       "    </tr>\n",
       "    <tr>\n",
       "      <th>40</th>\n",
       "      <td>41</td>\n",
       "      <td>202.5</td>\n",
       "      <td>22.3</td>\n",
       "      <td>31.6</td>\n",
       "      <td>16.6</td>\n",
       "    </tr>\n",
       "    <tr>\n",
       "      <th>27</th>\n",
       "      <td>28</td>\n",
       "      <td>240.1</td>\n",
       "      <td>16.7</td>\n",
       "      <td>22.9</td>\n",
       "      <td>15.9</td>\n",
       "    </tr>\n",
       "    <tr>\n",
       "      <th>65</th>\n",
       "      <td>66</td>\n",
       "      <td>69.0</td>\n",
       "      <td>9.3</td>\n",
       "      <td>0.9</td>\n",
       "      <td>9.3</td>\n",
       "    </tr>\n",
       "  </tbody>\n",
       "</table>\n",
       "</div>"
      ],
      "text/plain": [
       "     Unnamed: 0     TV  radio  newspaper  sales\n",
       "122         123  224.0    2.4       15.6   11.6\n",
       "123         124  123.1   34.6       12.4   15.2\n",
       "40           41  202.5   22.3       31.6   16.6\n",
       "27           28  240.1   16.7       22.9   15.9\n",
       "65           66   69.0    9.3        0.9    9.3"
      ]
     },
     "execution_count": 4,
     "metadata": {},
     "output_type": "execute_result"
    }
   ],
   "source": [
    "df.sample(5)"
   ]
  },
  {
   "cell_type": "markdown",
   "id": "b8d4f2c9",
   "metadata": {},
   "source": [
    "So by observing the above dataset we can know that the dataset contains only numerical values."
   ]
  },
  {
   "cell_type": "markdown",
   "id": "6ac50a56",
   "metadata": {},
   "source": [
    "# Exploratory Data Analysis:"
   ]
  },
  {
   "cell_type": "code",
   "execution_count": 5,
   "id": "4d692857",
   "metadata": {},
   "outputs": [
    {
     "data": {
      "text/plain": [
       "(200, 5)"
      ]
     },
     "execution_count": 5,
     "metadata": {},
     "output_type": "execute_result"
    }
   ],
   "source": [
    "df.shape"
   ]
  },
  {
   "cell_type": "markdown",
   "id": "81679a95",
   "metadata": {},
   "source": [
    "We can see that the dataset contains 200 rows and 5 columns in which 4 are float datatype and one is integer datatype as listed below."
   ]
  },
  {
   "cell_type": "code",
   "execution_count": 6,
   "id": "98f7a30a",
   "metadata": {},
   "outputs": [
    {
     "data": {
      "text/plain": [
       "Unnamed: 0      int64\n",
       "TV            float64\n",
       "radio         float64\n",
       "newspaper     float64\n",
       "sales         float64\n",
       "dtype: object"
      ]
     },
     "execution_count": 6,
     "metadata": {},
     "output_type": "execute_result"
    }
   ],
   "source": [
    "df.dtypes"
   ]
  },
  {
   "cell_type": "code",
   "execution_count": 7,
   "id": "b794c5b2",
   "metadata": {},
   "outputs": [
    {
     "name": "stdout",
     "output_type": "stream",
     "text": [
      "<class 'pandas.core.frame.DataFrame'>\n",
      "RangeIndex: 200 entries, 0 to 199\n",
      "Data columns (total 5 columns):\n",
      " #   Column      Non-Null Count  Dtype  \n",
      "---  ------      --------------  -----  \n",
      " 0   Unnamed: 0  200 non-null    int64  \n",
      " 1   TV          200 non-null    float64\n",
      " 2   radio       200 non-null    float64\n",
      " 3   newspaper   200 non-null    float64\n",
      " 4   sales       200 non-null    float64\n",
      "dtypes: float64(4), int64(1)\n",
      "memory usage: 7.9 KB\n"
     ]
    }
   ],
   "source": [
    "df.info()"
   ]
  },
  {
   "cell_type": "code",
   "execution_count": 8,
   "id": "7fafcf8f",
   "metadata": {},
   "outputs": [
    {
     "data": {
      "text/plain": [
       "Index(['Unnamed: 0', 'TV', 'radio', 'newspaper', 'sales'], dtype='object')"
      ]
     },
     "execution_count": 8,
     "metadata": {},
     "output_type": "execute_result"
    }
   ],
   "source": [
    "df.keys()"
   ]
  },
  {
   "cell_type": "markdown",
   "id": "b9696213",
   "metadata": {},
   "source": [
    "Checking null values:"
   ]
  },
  {
   "cell_type": "code",
   "execution_count": 9,
   "id": "cc9e49dc",
   "metadata": {},
   "outputs": [
    {
     "data": {
      "text/html": [
       "<div>\n",
       "<style scoped>\n",
       "    .dataframe tbody tr th:only-of-type {\n",
       "        vertical-align: middle;\n",
       "    }\n",
       "\n",
       "    .dataframe tbody tr th {\n",
       "        vertical-align: top;\n",
       "    }\n",
       "\n",
       "    .dataframe thead th {\n",
       "        text-align: right;\n",
       "    }\n",
       "</style>\n",
       "<table border=\"1\" class=\"dataframe\">\n",
       "  <thead>\n",
       "    <tr style=\"text-align: right;\">\n",
       "      <th></th>\n",
       "      <th>Unnamed: 0</th>\n",
       "      <th>TV</th>\n",
       "      <th>radio</th>\n",
       "      <th>newspaper</th>\n",
       "      <th>sales</th>\n",
       "    </tr>\n",
       "  </thead>\n",
       "  <tbody>\n",
       "    <tr>\n",
       "      <th>0</th>\n",
       "      <td>False</td>\n",
       "      <td>False</td>\n",
       "      <td>False</td>\n",
       "      <td>False</td>\n",
       "      <td>False</td>\n",
       "    </tr>\n",
       "    <tr>\n",
       "      <th>1</th>\n",
       "      <td>False</td>\n",
       "      <td>False</td>\n",
       "      <td>False</td>\n",
       "      <td>False</td>\n",
       "      <td>False</td>\n",
       "    </tr>\n",
       "    <tr>\n",
       "      <th>2</th>\n",
       "      <td>False</td>\n",
       "      <td>False</td>\n",
       "      <td>False</td>\n",
       "      <td>False</td>\n",
       "      <td>False</td>\n",
       "    </tr>\n",
       "    <tr>\n",
       "      <th>3</th>\n",
       "      <td>False</td>\n",
       "      <td>False</td>\n",
       "      <td>False</td>\n",
       "      <td>False</td>\n",
       "      <td>False</td>\n",
       "    </tr>\n",
       "    <tr>\n",
       "      <th>4</th>\n",
       "      <td>False</td>\n",
       "      <td>False</td>\n",
       "      <td>False</td>\n",
       "      <td>False</td>\n",
       "      <td>False</td>\n",
       "    </tr>\n",
       "    <tr>\n",
       "      <th>...</th>\n",
       "      <td>...</td>\n",
       "      <td>...</td>\n",
       "      <td>...</td>\n",
       "      <td>...</td>\n",
       "      <td>...</td>\n",
       "    </tr>\n",
       "    <tr>\n",
       "      <th>195</th>\n",
       "      <td>False</td>\n",
       "      <td>False</td>\n",
       "      <td>False</td>\n",
       "      <td>False</td>\n",
       "      <td>False</td>\n",
       "    </tr>\n",
       "    <tr>\n",
       "      <th>196</th>\n",
       "      <td>False</td>\n",
       "      <td>False</td>\n",
       "      <td>False</td>\n",
       "      <td>False</td>\n",
       "      <td>False</td>\n",
       "    </tr>\n",
       "    <tr>\n",
       "      <th>197</th>\n",
       "      <td>False</td>\n",
       "      <td>False</td>\n",
       "      <td>False</td>\n",
       "      <td>False</td>\n",
       "      <td>False</td>\n",
       "    </tr>\n",
       "    <tr>\n",
       "      <th>198</th>\n",
       "      <td>False</td>\n",
       "      <td>False</td>\n",
       "      <td>False</td>\n",
       "      <td>False</td>\n",
       "      <td>False</td>\n",
       "    </tr>\n",
       "    <tr>\n",
       "      <th>199</th>\n",
       "      <td>False</td>\n",
       "      <td>False</td>\n",
       "      <td>False</td>\n",
       "      <td>False</td>\n",
       "      <td>False</td>\n",
       "    </tr>\n",
       "  </tbody>\n",
       "</table>\n",
       "<p>200 rows × 5 columns</p>\n",
       "</div>"
      ],
      "text/plain": [
       "     Unnamed: 0     TV  radio  newspaper  sales\n",
       "0         False  False  False      False  False\n",
       "1         False  False  False      False  False\n",
       "2         False  False  False      False  False\n",
       "3         False  False  False      False  False\n",
       "4         False  False  False      False  False\n",
       "..          ...    ...    ...        ...    ...\n",
       "195       False  False  False      False  False\n",
       "196       False  False  False      False  False\n",
       "197       False  False  False      False  False\n",
       "198       False  False  False      False  False\n",
       "199       False  False  False      False  False\n",
       "\n",
       "[200 rows x 5 columns]"
      ]
     },
     "execution_count": 9,
     "metadata": {},
     "output_type": "execute_result"
    }
   ],
   "source": [
    "df.isnull()"
   ]
  },
  {
   "cell_type": "code",
   "execution_count": 10,
   "id": "b191e980",
   "metadata": {},
   "outputs": [
    {
     "data": {
      "text/plain": [
       "Unnamed: 0    0\n",
       "TV            0\n",
       "radio         0\n",
       "newspaper     0\n",
       "sales         0\n",
       "dtype: int64"
      ]
     },
     "execution_count": 10,
     "metadata": {},
     "output_type": "execute_result"
    }
   ],
   "source": [
    "df.isnull().sum()"
   ]
  },
  {
   "cell_type": "markdown",
   "id": "3297c3a2",
   "metadata": {},
   "source": [
    "We can see that there is no null values so our data is clean and no need to do data cleaning."
   ]
  },
  {
   "cell_type": "code",
   "execution_count": 11,
   "id": "774dc6b8",
   "metadata": {},
   "outputs": [
    {
     "data": {
      "text/html": [
       "<div>\n",
       "<style scoped>\n",
       "    .dataframe tbody tr th:only-of-type {\n",
       "        vertical-align: middle;\n",
       "    }\n",
       "\n",
       "    .dataframe tbody tr th {\n",
       "        vertical-align: top;\n",
       "    }\n",
       "\n",
       "    .dataframe thead th {\n",
       "        text-align: right;\n",
       "    }\n",
       "</style>\n",
       "<table border=\"1\" class=\"dataframe\">\n",
       "  <thead>\n",
       "    <tr style=\"text-align: right;\">\n",
       "      <th></th>\n",
       "      <th>Unnamed: 0</th>\n",
       "      <th>TV</th>\n",
       "      <th>radio</th>\n",
       "      <th>newspaper</th>\n",
       "      <th>sales</th>\n",
       "    </tr>\n",
       "  </thead>\n",
       "  <tbody>\n",
       "    <tr>\n",
       "      <th>count</th>\n",
       "      <td>200.000000</td>\n",
       "      <td>200.000000</td>\n",
       "      <td>200.000000</td>\n",
       "      <td>200.000000</td>\n",
       "      <td>200.000000</td>\n",
       "    </tr>\n",
       "    <tr>\n",
       "      <th>mean</th>\n",
       "      <td>100.500000</td>\n",
       "      <td>147.042500</td>\n",
       "      <td>23.264000</td>\n",
       "      <td>30.554000</td>\n",
       "      <td>14.022500</td>\n",
       "    </tr>\n",
       "    <tr>\n",
       "      <th>std</th>\n",
       "      <td>57.879185</td>\n",
       "      <td>85.854236</td>\n",
       "      <td>14.846809</td>\n",
       "      <td>21.778621</td>\n",
       "      <td>5.217457</td>\n",
       "    </tr>\n",
       "    <tr>\n",
       "      <th>min</th>\n",
       "      <td>1.000000</td>\n",
       "      <td>0.700000</td>\n",
       "      <td>0.000000</td>\n",
       "      <td>0.300000</td>\n",
       "      <td>1.600000</td>\n",
       "    </tr>\n",
       "    <tr>\n",
       "      <th>25%</th>\n",
       "      <td>50.750000</td>\n",
       "      <td>74.375000</td>\n",
       "      <td>9.975000</td>\n",
       "      <td>12.750000</td>\n",
       "      <td>10.375000</td>\n",
       "    </tr>\n",
       "    <tr>\n",
       "      <th>50%</th>\n",
       "      <td>100.500000</td>\n",
       "      <td>149.750000</td>\n",
       "      <td>22.900000</td>\n",
       "      <td>25.750000</td>\n",
       "      <td>12.900000</td>\n",
       "    </tr>\n",
       "    <tr>\n",
       "      <th>75%</th>\n",
       "      <td>150.250000</td>\n",
       "      <td>218.825000</td>\n",
       "      <td>36.525000</td>\n",
       "      <td>45.100000</td>\n",
       "      <td>17.400000</td>\n",
       "    </tr>\n",
       "    <tr>\n",
       "      <th>max</th>\n",
       "      <td>200.000000</td>\n",
       "      <td>296.400000</td>\n",
       "      <td>49.600000</td>\n",
       "      <td>114.000000</td>\n",
       "      <td>27.000000</td>\n",
       "    </tr>\n",
       "  </tbody>\n",
       "</table>\n",
       "</div>"
      ],
      "text/plain": [
       "       Unnamed: 0          TV       radio   newspaper       sales\n",
       "count  200.000000  200.000000  200.000000  200.000000  200.000000\n",
       "mean   100.500000  147.042500   23.264000   30.554000   14.022500\n",
       "std     57.879185   85.854236   14.846809   21.778621    5.217457\n",
       "min      1.000000    0.700000    0.000000    0.300000    1.600000\n",
       "25%     50.750000   74.375000    9.975000   12.750000   10.375000\n",
       "50%    100.500000  149.750000   22.900000   25.750000   12.900000\n",
       "75%    150.250000  218.825000   36.525000   45.100000   17.400000\n",
       "max    200.000000  296.400000   49.600000  114.000000   27.000000"
      ]
     },
     "execution_count": 11,
     "metadata": {},
     "output_type": "execute_result"
    }
   ],
   "source": [
    "#summary statistics\n",
    "df.describe()"
   ]
  },
  {
   "cell_type": "markdown",
   "id": "881f3e56",
   "metadata": {},
   "source": [
    "1. We can see that the mean is greater than median in 'radio','newspaper' and 'sales' column.\n",
    "\n",
    "2. There is a large difference between 75th percentile and the maximum value in 'newspaper' column so there may be a chances of having an outliers. "
   ]
  },
  {
   "cell_type": "code",
   "execution_count": 12,
   "id": "ad4f3b72",
   "metadata": {},
   "outputs": [
    {
     "data": {
      "image/png": "[encoded data removed]",
      "text/plain": [
       "<Figure size 720x720 with 2 Axes>"
      ]
     },
     "metadata": {
      "needs_background": "light"
     },
     "output_type": "display_data"
    }
   ],
   "source": [
    "figure=plt.figure(figsize=(5,6))\n",
    "figure.set_size_inches(10,10)\n",
    "sns.heatmap(round(df.describe()[1:].transpose(),2),linewidth=1,fmt=\"f\",annot=True,square=True)\n",
    "plt.xticks(fontsize=10)\n",
    "plt.yticks(fontsize=10)\n",
    "plt.title(\"Variables summary\")\n",
    "plt.show()"
   ]
  },
  {
   "cell_type": "markdown",
   "id": "83481a22",
   "metadata": {},
   "source": [
    "The Outcome of the describe data is as follows.\n",
    " \n",
    "Unnamed:0:\n",
    "    \n",
    "    mean=100.500000\n",
    "    std=57.879185\n",
    "    min_value=1.000000\n",
    "    max_value=200.000000\n",
    "    \n",
    "TV:\n",
    "    \n",
    "    mean=147.042500\n",
    "    std=85.854236\n",
    "    min_value=0.700000\n",
    "    max_value=296.400000\n",
    "\n",
    "radio:\n",
    "    \n",
    "    mean=23.264000\n",
    "    std=14.846809\n",
    "    min_value=0.000000\n",
    "    max_value=49.600000\n",
    "    \n",
    "newspaper:\n",
    "    \n",
    "    mean=30.554000\n",
    "    std=21.778621\n",
    "    min_value=0.300000\n",
    "    max_value=114.000000\n",
    "    \n",
    "sales:\n",
    "    \n",
    "    mean=14.022500\n",
    "    std=5.21457\n",
    "    min_value=1.600000\n",
    "    max_value=27.000000"
   ]
  },
  {
   "cell_type": "markdown",
   "id": "3d88212c",
   "metadata": {},
   "source": [
    "Checking unique values: "
   ]
  },
  {
   "cell_type": "code",
   "execution_count": 13,
   "id": "3cd9796b",
   "metadata": {},
   "outputs": [
    {
     "data": {
      "text/plain": [
       "array([22.1, 10.4,  9.3, 18.5, 12.9,  7.2, 11.8, 13.2,  4.8, 10.6,  8.6,\n",
       "       17.4,  9.2,  9.7, 19. , 22.4, 12.5, 24.4, 11.3, 14.6, 18. ,  5.6,\n",
       "       15.5, 12. , 15. , 15.9, 18.9, 10.5, 21.4, 11.9,  9.6,  9.5, 12.8,\n",
       "       25.4, 14.7, 10.1, 21.5, 16.6, 17.1, 20.7,  8.5, 14.9, 23.2, 14.8,\n",
       "       11.4, 10.7, 22.6, 21.2, 20.2, 23.7,  5.5, 23.8, 18.4,  8.1, 24.2,\n",
       "       15.7, 14. , 13.4, 22.3, 18.3, 12.4,  8.8, 11. , 17. ,  8.7,  6.9,\n",
       "       14.2,  5.3, 12.3, 13.6, 21.7, 15.2, 16. , 16.7, 11.2,  7.3, 19.4,\n",
       "       22.2, 11.5, 16.9, 11.7, 17.2, 19.2, 19.8, 21.8, 14.1, 12.6, 12.2,\n",
       "        9.4,  6.6,  7. , 11.6, 19.7, 24.7,  1.6, 12.7,  5.7, 19.6, 10.8,\n",
       "       20.8, 10.9, 20.1, 10.3, 16.1, 15.6,  3.2, 15.3, 14.4, 13.3,  8. ,\n",
       "        8.4, 14.5,  7.6, 27. , 26.2, 17.6, 17.3,  6.7,  9.9,  5.9, 25.5])"
      ]
     },
     "execution_count": 13,
     "metadata": {},
     "output_type": "execute_result"
    }
   ],
   "source": [
    "df.sales.unique()"
   ]
  },
  {
   "cell_type": "markdown",
   "id": "11dec80b",
   "metadata": {},
   "source": [
    "There are lot of unique values in sales column."
   ]
  },
  {
   "cell_type": "code",
   "execution_count": 14,
   "id": "a988c5bd",
   "metadata": {},
   "outputs": [
    {
     "data": {
      "text/plain": [
       "9.7     5\n",
       "15.9    4\n",
       "11.7    4\n",
       "12.9    4\n",
       "20.7    3\n",
       "       ..\n",
       "25.5    1\n",
       "15.6    1\n",
       "17.6    1\n",
       "3.2     1\n",
       "20.8    1\n",
       "Name: sales, Length: 121, dtype: int64"
      ]
     },
     "execution_count": 14,
     "metadata": {},
     "output_type": "execute_result"
    }
   ],
   "source": [
    "df.sales.value_counts()"
   ]
  },
  {
   "cell_type": "code",
   "execution_count": 15,
   "id": "61d335eb",
   "metadata": {},
   "outputs": [
    {
     "data": {
      "text/plain": [
       "array([230.1,  44.5,  17.2, 151.5, 180.8,   8.7,  57.5, 120.2,   8.6,\n",
       "       199.8,  66.1, 214.7,  23.8,  97.5, 204.1, 195.4,  67.8, 281.4,\n",
       "        69.2, 147.3, 218.4, 237.4,  13.2, 228.3,  62.3, 262.9, 142.9,\n",
       "       240.1, 248.8,  70.6, 292.9, 112.9,  97.2, 265.6,  95.7, 290.7,\n",
       "       266.9,  74.7,  43.1, 228. , 202.5, 177. , 293.6, 206.9,  25.1,\n",
       "       175.1,  89.7, 239.9, 227.2,  66.9, 100.4, 216.4, 182.6, 262.7,\n",
       "       198.9,   7.3, 136.2, 210.8, 210.7,  53.5, 261.3, 239.3, 102.7,\n",
       "       131.1,  69. ,  31.5, 139.3, 216.8, 199.1, 109.8,  26.8, 129.4,\n",
       "       213.4,  16.9,  27.5, 120.5,   5.4, 116. ,  76.4, 239.8,  75.3,\n",
       "        68.4, 213.5, 193.2,  76.3, 110.7,  88.3, 134.3,  28.6, 217.7,\n",
       "       250.9, 107.4, 163.3, 197.6, 184.9, 289.7, 135.2, 222.4, 296.4,\n",
       "       280.2, 187.9, 238.2, 137.9,  25. ,  90.4,  13.1, 255.4, 225.8,\n",
       "       241.7, 175.7, 209.6,  78.2,  75.1, 139.2, 125.7,  19.4, 141.3,\n",
       "        18.8, 224. , 123.1, 229.5,  87.2,   7.8,  80.2, 220.3,  59.6,\n",
       "         0.7, 265.2,   8.4, 219.8,  36.9,  48.3,  25.6, 273.7,  43. ,\n",
       "        73.4, 193.7, 220.5, 104.6,  96.2, 140.3, 243.2,  38. ,  44.7,\n",
       "       280.7, 121. , 171.3, 187.8,   4.1,  93.9, 149.8,  11.7, 131.7,\n",
       "       172.5,  85.7, 188.4, 163.5, 117.2, 234.5,  17.9, 206.8, 215.4,\n",
       "       284.3,  50. , 164.5,  19.6, 168.4, 276.9, 248.4, 170.2, 276.7,\n",
       "       165.6, 156.6, 218.5,  56.2, 287.6, 253.8, 205. , 139.5, 191.1,\n",
       "       286. ,  18.7,  39.5,  75.5, 166.8, 149.7,  38.2,  94.2, 283.6,\n",
       "       232.1])"
      ]
     },
     "execution_count": 15,
     "metadata": {},
     "output_type": "execute_result"
    }
   ],
   "source": [
    "df.TV.unique()"
   ]
  },
  {
   "cell_type": "code",
   "execution_count": 16,
   "id": "1f34d13c",
   "metadata": {},
   "outputs": [
    {
     "data": {
      "text/plain": [
       "76.4     2\n",
       "17.2     2\n",
       "240.1    2\n",
       "197.6    2\n",
       "184.9    2\n",
       "        ..\n",
       "117.2    1\n",
       "289.7    1\n",
       "137.9    1\n",
       "220.5    1\n",
       "13.1     1\n",
       "Name: TV, Length: 190, dtype: int64"
      ]
     },
     "execution_count": 16,
     "metadata": {},
     "output_type": "execute_result"
    }
   ],
   "source": [
    "df.TV.value_counts()"
   ]
  },
  {
   "cell_type": "code",
   "execution_count": 17,
   "id": "8fc6d380",
   "metadata": {},
   "outputs": [
    {
     "data": {
      "text/plain": [
       "array([37.8, 39.3, 45.9, 41.3, 10.8, 48.9, 32.8, 19.6,  2.1,  2.6,  5.8,\n",
       "       24. , 35.1,  7.6, 32.9, 47.7, 36.6, 39.6, 20.5, 23.9, 27.7,  5.1,\n",
       "       15.9, 16.9, 12.6,  3.5, 29.3, 16.7, 27.1, 16. , 28.3, 17.4,  1.5,\n",
       "       20. ,  1.4,  4.1, 43.8, 49.4, 26.7, 37.7, 22.3, 33.4,  8.4, 25.7,\n",
       "       22.5,  9.9, 41.5, 15.8, 11.7,  3.1,  9.6, 41.7, 46.2, 28.8, 28.1,\n",
       "       19.2, 49.6, 29.5,  2. , 42.7, 15.5, 29.6, 42.8,  9.3, 24.6, 14.5,\n",
       "       27.5, 43.9, 30.6, 14.3, 33. ,  5.7, 43.7,  1.6, 28.5, 29.9,  7.7,\n",
       "       20.3, 44.5, 43. , 18.4, 40.6, 25.5, 47.8,  4.9, 33.5, 36.5, 14. ,\n",
       "       31.6, 21. , 42.3,  4.3, 36.3, 10.1, 17.2, 34.3, 46.4, 11. ,  0.3,\n",
       "        0.4, 26.9,  8.2, 38. , 15.4, 20.6, 46.8, 35. ,  0.8, 36.9, 26.8,\n",
       "       21.7,  2.4, 34.6, 32.3, 11.8, 38.9,  0. , 49. , 12. ,  2.9, 27.2,\n",
       "       38.6, 47. , 39. , 28.9, 25.9, 17. , 35.4, 33.2, 14.8,  1.9,  7.3,\n",
       "       40.3, 25.8, 13.9, 23.3, 39.7, 21.1, 11.6, 43.5,  1.3, 18.1, 35.8,\n",
       "       36.8, 14.7,  3.4, 37.6,  5.2, 23.6, 10.6, 20.9, 20.1,  7.1, 30.2,\n",
       "        7.8,  2.3, 10. ,  5.4, 21.3, 45.1, 28.7, 12.1, 41.1, 42. , 35.6,\n",
       "        3.7,  8.6])"
      ]
     },
     "execution_count": 17,
     "metadata": {},
     "output_type": "execute_result"
    }
   ],
   "source": [
    "df.radio.unique()"
   ]
  },
  {
   "cell_type": "code",
   "execution_count": 18,
   "id": "92e5b519",
   "metadata": {},
   "outputs": [
    {
     "data": {
      "text/plain": [
       "Unnamed: 0  TV     radio  newspaper  sales\n",
       "1           230.1  37.8   69.2       22.1     1\n",
       "138         273.7  28.9   59.7       20.8     1\n",
       "128         80.2   0.0    9.2        8.8      1\n",
       "129         220.3  49.0   3.2        24.7     1\n",
       "130         59.6   12.0   43.1       9.7      1\n",
       "                                             ..\n",
       "70          216.8  43.9   27.2       22.3     1\n",
       "71          199.1  30.6   38.7       18.3     1\n",
       "72          109.8  14.3   31.7       12.4     1\n",
       "73          26.8   33.0   19.3       8.8      1\n",
       "200         232.1  8.6    8.7        13.4     1\n",
       "Length: 200, dtype: int64"
      ]
     },
     "execution_count": 18,
     "metadata": {},
     "output_type": "execute_result"
    }
   ],
   "source": [
    "df.value_counts()"
   ]
  },
  {
   "cell_type": "code",
   "execution_count": 19,
   "id": "c28affec",
   "metadata": {},
   "outputs": [
    {
     "data": {
      "text/plain": [
       "array([ 69.2,  45.1,  69.3,  58.5,  58.4,  75. ,  23.5,  11.6,   1. ,\n",
       "        21.2,  24.2,   4. ,  65.9,   7.2,  46. ,  52.9, 114. ,  55.8,\n",
       "        18.3,  19.1,  53.4,  49.6,  26.2,  19.5,  12.6,  22.9,  40.8,\n",
       "        43.2,  38.6,  30. ,   0.3,   7.4,   8.5,   5. ,  45.7,  35.1,\n",
       "        32. ,  31.6,  38.7,   1.8,  26.4,  43.3,  31.5,  35.7,  18.5,\n",
       "        49.9,  36.8,  34.6,   3.6,  39.6,  58.7,  15.9,  60. ,  41.4,\n",
       "        16.6,  37.7,   9.3,  21.4,  54.7,  27.3,   8.4,  28.9,   0.9,\n",
       "         2.2,  10.2,  11. ,  27.2,  31.7,  19.3,  31.3,  13.1,  89.4,\n",
       "        20.7,  14.2,   9.4,  23.1,  22.3,  36.9,  32.5,  35.6,  33.8,\n",
       "        65.7,  16. ,  63.2,  73.4,  51.4,  33. ,  59. ,  72.3,  10.9,\n",
       "         5.9,  22. ,  51.2,  45.9,  49.8, 100.9,  17.9,   5.3,  29.7,\n",
       "        23.2,  25.6,   5.5,  56.5,   2.4,  10.7,  34.5,  52.7,  14.8,\n",
       "        79.2,  46.2,  50.4,  15.6,  12.4,  74.2,  25.9,  50.6,   9.2,\n",
       "         3.2,  43.1,   8.7,  43. ,   2.1,  65.6,  59.7,  20.5,   1.7,\n",
       "        12.9,  75.6,  37.9,  34.4,  38.9,   9. ,  44.3,  11.9,  20.6,\n",
       "        37. ,  48.7,   9.5,   5.7,  50.5,  24.3,  45.2,  30.7,  49.3,\n",
       "         5.4,  84.8,  21.6,  19.4,  57.6,   6.4,  18.4,  47.4,  17. ,\n",
       "        12.8,  41.8,  20.3,  35.2,  23.7,  17.6,   8.3,  27.4,  71.8,\n",
       "        19.6,  26.6,  18.2,   3.7,  23.4,   5.8,   6. ,  13.8,   8.1,\n",
       "        66.2])"
      ]
     },
     "execution_count": 19,
     "metadata": {},
     "output_type": "execute_result"
    }
   ],
   "source": [
    "df.newspaper.unique()"
   ]
  },
  {
   "cell_type": "code",
   "execution_count": 20,
   "id": "80f81dbb",
   "metadata": {},
   "outputs": [
    {
     "data": {
      "text/plain": [
       "25.6    3\n",
       "9.3     3\n",
       "8.7     3\n",
       "7.4     2\n",
       "22.9    2\n",
       "       ..\n",
       "2.4     1\n",
       "13.8    1\n",
       "1.8     1\n",
       "57.6    1\n",
       "19.4    1\n",
       "Name: newspaper, Length: 172, dtype: int64"
      ]
     },
     "execution_count": 20,
     "metadata": {},
     "output_type": "execute_result"
    }
   ],
   "source": [
    "df.newspaper.value_counts()"
   ]
  },
  {
   "cell_type": "markdown",
   "id": "c93716fe",
   "metadata": {},
   "source": [
    "# Data Visualization:"
   ]
  },
  {
   "cell_type": "markdown",
   "id": "501ff0ee",
   "metadata": {},
   "source": [
    "# Univariate analysis:"
   ]
  },
  {
   "cell_type": "code",
   "execution_count": 21,
   "id": "f7f0a467",
   "metadata": {},
   "outputs": [
    {
     "data": {
      "text/plain": [
       "<AxesSubplot:xlabel='TV', ylabel='count'>"
      ]
     },
     "execution_count": 21,
     "metadata": {},
     "output_type": "execute_result"
    },
    {
     "data": {
      "image/png": "[encoded data removed]",
      "text/plain": [
       "<Figure size 432x288 with 1 Axes>"
      ]
     },
     "metadata": {
      "needs_background": "light"
     },
     "output_type": "display_data"
    }
   ],
   "source": [
    "sns.countplot(df['TV'])"
   ]
  },
  {
   "cell_type": "markdown",
   "id": "ed0433ec",
   "metadata": {},
   "source": [
    "Here the data is distributed normally in all columns."
   ]
  },
  {
   "cell_type": "code",
   "execution_count": 22,
   "id": "9452ed0e",
   "metadata": {},
   "outputs": [
    {
     "data": {
      "text/plain": [
       "<AxesSubplot:xlabel='radio', ylabel='count'>"
      ]
     },
     "execution_count": 22,
     "metadata": {},
     "output_type": "execute_result"
    },
    {
     "data": {
      "image/png": "[encoded data removed]",
      "text/plain": [
       "<Figure size 432x288 with 1 Axes>"
      ]
     },
     "metadata": {
      "needs_background": "light"
     },
     "output_type": "display_data"
    }
   ],
   "source": [
    "sns.countplot(df['radio'])"
   ]
  },
  {
   "cell_type": "markdown",
   "id": "5817a202",
   "metadata": {},
   "source": [
    "The data is distributed normally in all columns here."
   ]
  },
  {
   "cell_type": "code",
   "execution_count": 23,
   "id": "f3754b67",
   "metadata": {},
   "outputs": [
    {
     "data": {
      "text/plain": [
       "<AxesSubplot:xlabel='newspaper', ylabel='count'>"
      ]
     },
     "execution_count": 23,
     "metadata": {},
     "output_type": "execute_result"
    },
    {
     "data": {
      "image/png": "[encoded data removed]",
      "text/plain": [
       "<Figure size 432x288 with 1 Axes>"
      ]
     },
     "metadata": {
      "needs_background": "light"
     },
     "output_type": "display_data"
    }
   ],
   "source": [
    "sns.countplot(df['newspaper'])"
   ]
  },
  {
   "cell_type": "markdown",
   "id": "4531b778",
   "metadata": {},
   "source": [
    "The data is distributed normally in all columns."
   ]
  },
  {
   "cell_type": "code",
   "execution_count": 24,
   "id": "ea25ac55",
   "metadata": {},
   "outputs": [
    {
     "data": {
      "text/plain": [
       "<AxesSubplot:xlabel='sales', ylabel='count'>"
      ]
     },
     "execution_count": 24,
     "metadata": {},
     "output_type": "execute_result"
    },
    {
     "data": {
      "image/png": "[encoded data removed]",
      "text/plain": [
       "<Figure size 432x288 with 1 Axes>"
      ]
     },
     "metadata": {
      "needs_background": "light"
     },
     "output_type": "display_data"
    }
   ],
   "source": [
    "sns.countplot(df['sales'])"
   ]
  },
  {
   "cell_type": "markdown",
   "id": "c14612a6",
   "metadata": {},
   "source": [
    "The data is not normally distributed normally in all columns."
   ]
  },
  {
   "cell_type": "code",
   "execution_count": 25,
   "id": "4119685c",
   "metadata": {},
   "outputs": [
    {
     "data": {
      "text/plain": [
       "<AxesSubplot:>"
      ]
     },
     "execution_count": 25,
     "metadata": {},
     "output_type": "execute_result"
    },
    {
     "data": {
      "image/png": "[encoded data removed]",
      "text/plain": [
       "<Figure size 432x288 with 2 Axes>"
      ]
     },
     "metadata": {
      "needs_background": "light"
     },
     "output_type": "display_data"
    }
   ],
   "source": [
    "#plotting heatmap to check null values\n",
    "sns.heatmap(df.isnull())"
   ]
  },
  {
   "cell_type": "markdown",
   "id": "567fcb7d",
   "metadata": {},
   "source": [
    "# Bivariate analysis:"
   ]
  },
  {
   "cell_type": "markdown",
   "id": "209379c2",
   "metadata": {},
   "source": [
    "Analyzing all features variables with the target variable. "
   ]
  },
  {
   "cell_type": "code",
   "execution_count": 26,
   "id": "d012f235",
   "metadata": {},
   "outputs": [
    {
     "data": {
      "text/plain": [
       "<matplotlib.collections.PathCollection at 0x1fb039eadf0>"
      ]
     },
     "execution_count": 26,
     "metadata": {},
     "output_type": "execute_result"
    },
    {
     "data": {
      "image/png": "[encoded data removed]",
      "text/plain": [
       "<Figure size 432x288 with 1 Axes>"
      ]
     },
     "metadata": {
      "needs_background": "light"
     },
     "output_type": "display_data"
    }
   ],
   "source": [
    "plt.scatter(df['TV'],df['sales'])"
   ]
  },
  {
   "cell_type": "markdown",
   "id": "7c8b3a61",
   "metadata": {},
   "source": [
    "we can see that there is a linear slope so there is a changes of having positive correlation between TV and the target columns(sales)"
   ]
  },
  {
   "cell_type": "code",
   "execution_count": 27,
   "id": "66fe30f3",
   "metadata": {},
   "outputs": [
    {
     "data": {
      "text/plain": [
       "<matplotlib.collections.PathCollection at 0x1fb03a47be0>"
      ]
     },
     "execution_count": 27,
     "metadata": {},
     "output_type": "execute_result"
    },
    {
     "data": {
      "image/png": "[encoded data removed]",
      "text/plain": [
       "<Figure size 432x288 with 1 Axes>"
      ]
     },
     "metadata": {
      "needs_background": "light"
     },
     "output_type": "display_data"
    }
   ],
   "source": [
    "plt.scatter(df['radio'],df['sales'])"
   ]
  },
  {
   "cell_type": "markdown",
   "id": "e359ab79",
   "metadata": {},
   "source": [
    "By above graph we can say that our target column might have a positive correlation with the radio variable."
   ]
  },
  {
   "cell_type": "code",
   "execution_count": 28,
   "id": "6ff2f922",
   "metadata": {},
   "outputs": [
    {
     "data": {
      "text/plain": [
       "<matplotlib.collections.PathCollection at 0x1fb04a6a850>"
      ]
     },
     "execution_count": 28,
     "metadata": {},
     "output_type": "execute_result"
    },
    {
     "data": {
      "image/png": "[encoded data removed]",
      "text/plain": [
       "<Figure size 432x288 with 1 Axes>"
      ]
     },
     "metadata": {
      "needs_background": "light"
     },
     "output_type": "display_data"
    }
   ],
   "source": [
    "plt.scatter(df['newspaper'],df['sales'])"
   ]
  },
  {
   "cell_type": "markdown",
   "id": "9e44ed97",
   "metadata": {},
   "source": [
    "Here the data is distributed completely I think it is tricky to predict the relation of newspaper and sales.So let us analyze it by finding the correlation. "
   ]
  },
  {
   "cell_type": "markdown",
   "id": "7b5c637f",
   "metadata": {},
   "source": [
    "# Correlation:"
   ]
  },
  {
   "cell_type": "code",
   "execution_count": 29,
   "id": "50dd3985",
   "metadata": {},
   "outputs": [
    {
     "data": {
      "text/html": [
       "<div>\n",
       "<style scoped>\n",
       "    .dataframe tbody tr th:only-of-type {\n",
       "        vertical-align: middle;\n",
       "    }\n",
       "\n",
       "    .dataframe tbody tr th {\n",
       "        vertical-align: top;\n",
       "    }\n",
       "\n",
       "    .dataframe thead th {\n",
       "        text-align: right;\n",
       "    }\n",
       "</style>\n",
       "<table border=\"1\" class=\"dataframe\">\n",
       "  <thead>\n",
       "    <tr style=\"text-align: right;\">\n",
       "      <th></th>\n",
       "      <th>Unnamed: 0</th>\n",
       "      <th>TV</th>\n",
       "      <th>radio</th>\n",
       "      <th>newspaper</th>\n",
       "      <th>sales</th>\n",
       "    </tr>\n",
       "  </thead>\n",
       "  <tbody>\n",
       "    <tr>\n",
       "      <th>Unnamed: 0</th>\n",
       "      <td>1.000000</td>\n",
       "      <td>0.017715</td>\n",
       "      <td>-0.110680</td>\n",
       "      <td>-0.154944</td>\n",
       "      <td>-0.051616</td>\n",
       "    </tr>\n",
       "    <tr>\n",
       "      <th>TV</th>\n",
       "      <td>0.017715</td>\n",
       "      <td>1.000000</td>\n",
       "      <td>0.054809</td>\n",
       "      <td>0.056648</td>\n",
       "      <td>0.782224</td>\n",
       "    </tr>\n",
       "    <tr>\n",
       "      <th>radio</th>\n",
       "      <td>-0.110680</td>\n",
       "      <td>0.054809</td>\n",
       "      <td>1.000000</td>\n",
       "      <td>0.354104</td>\n",
       "      <td>0.576223</td>\n",
       "    </tr>\n",
       "    <tr>\n",
       "      <th>newspaper</th>\n",
       "      <td>-0.154944</td>\n",
       "      <td>0.056648</td>\n",
       "      <td>0.354104</td>\n",
       "      <td>1.000000</td>\n",
       "      <td>0.228299</td>\n",
       "    </tr>\n",
       "    <tr>\n",
       "      <th>sales</th>\n",
       "      <td>-0.051616</td>\n",
       "      <td>0.782224</td>\n",
       "      <td>0.576223</td>\n",
       "      <td>0.228299</td>\n",
       "      <td>1.000000</td>\n",
       "    </tr>\n",
       "  </tbody>\n",
       "</table>\n",
       "</div>"
      ],
      "text/plain": [
       "            Unnamed: 0        TV     radio  newspaper     sales\n",
       "Unnamed: 0    1.000000  0.017715 -0.110680  -0.154944 -0.051616\n",
       "TV            0.017715  1.000000  0.054809   0.056648  0.782224\n",
       "radio        -0.110680  0.054809  1.000000   0.354104  0.576223\n",
       "newspaper    -0.154944  0.056648  0.354104   1.000000  0.228299\n",
       "sales        -0.051616  0.782224  0.576223   0.228299  1.000000"
      ]
     },
     "execution_count": 29,
     "metadata": {},
     "output_type": "execute_result"
    }
   ],
   "source": [
    "dfcor=df.corr()\n",
    "dfcor"
   ]
  },
  {
   "cell_type": "code",
   "execution_count": 30,
   "id": "e24da7f7",
   "metadata": {},
   "outputs": [
    {
     "data": {
      "text/plain": [
       "<AxesSubplot:>"
      ]
     },
     "execution_count": 30,
     "metadata": {},
     "output_type": "execute_result"
    },
    {
     "data": {
      "image/png": "[encoded data removed]",
      "text/plain": [
       "<Figure size 432x288 with 2 Axes>"
      ]
     },
     "metadata": {
      "needs_background": "light"
     },
     "output_type": "display_data"
    }
   ],
   "source": [
    "sns.heatmap(dfcor)"
   ]
  },
  {
   "cell_type": "markdown",
   "id": "66f47800",
   "metadata": {},
   "source": [
    "observations:\n",
    "    \n",
    "1. The dark shades shows a high negative correlation\n",
    "2. The light shades shows a high positive correlation.\n",
    "3. Here TV is having a highly negative correlation with both radio and newspaper."
   ]
  },
  {
   "cell_type": "code",
   "execution_count": 31,
   "id": "7d0c4b40",
   "metadata": {},
   "outputs": [
    {
     "data": {
      "text/plain": [
       "<AxesSubplot:>"
      ]
     },
     "execution_count": 31,
     "metadata": {},
     "output_type": "execute_result"
    },
    {
     "data": {
      "image/png": "[encoded data removed]",
      "text/plain": [
       "<Figure size 432x432 with 2 Axes>"
      ]
     },
     "metadata": {
      "needs_background": "light"
     },
     "output_type": "display_data"
    }
   ],
   "source": [
    "plt.figure(figsize=(6,6))\n",
    "sns.heatmap(dfcor,cmap='Blues',annot=True)"
   ]
  },
  {
   "cell_type": "code",
   "execution_count": 32,
   "id": "275ff4bd",
   "metadata": {},
   "outputs": [
    {
     "data": {
      "text/plain": [
       "<AxesSubplot:>"
      ]
     },
     "execution_count": 32,
     "metadata": {},
     "output_type": "execute_result"
    },
    {
     "data": {
      "image/png": "[encoded data removed]",
      "text/plain": [
       "<Figure size 576x432 with 2 Axes>"
      ]
     },
     "metadata": {
      "needs_background": "light"
     },
     "output_type": "display_data"
    }
   ],
   "source": [
    "plt.figure(figsize=(8,6))\n",
    "sns.heatmap(dfcor,cmap='Oranges',annot=True)"
   ]
  },
  {
   "cell_type": "markdown",
   "id": "367cff3c",
   "metadata": {},
   "source": [
    "# Plotting Outliers:"
   ]
  },
  {
   "cell_type": "code",
   "execution_count": 33,
   "id": "1704aab2",
   "metadata": {},
   "outputs": [
    {
     "data": {
      "text/plain": [
       "Index(['Unnamed: 0', 'TV', 'radio', 'newspaper', 'sales'], dtype='object')"
      ]
     },
     "execution_count": 33,
     "metadata": {},
     "output_type": "execute_result"
    }
   ],
   "source": [
    "df.columns"
   ]
  },
  {
   "cell_type": "code",
   "execution_count": 34,
   "id": "d460be9a",
   "metadata": {},
   "outputs": [
    {
     "data": {
      "text/plain": [
       "<AxesSubplot:>"
      ]
     },
     "execution_count": 34,
     "metadata": {},
     "output_type": "execute_result"
    },
    {
     "data": {
      "image/png": "[encoded data removed]",
      "text/plain": [
       "<Figure size 432x288 with 1 Axes>"
      ]
     },
     "metadata": {
      "needs_background": "light"
     },
     "output_type": "display_data"
    }
   ],
   "source": [
    "df['TV'].plot.box()"
   ]
  },
  {
   "cell_type": "code",
   "execution_count": 35,
   "id": "a83b6605",
   "metadata": {},
   "outputs": [
    {
     "data": {
      "text/plain": [
       "<AxesSubplot:>"
      ]
     },
     "execution_count": 35,
     "metadata": {},
     "output_type": "execute_result"
    },
    {
     "data": {
      "image/png": "[encoded data removed]",
      "text/plain": [
       "<Figure size 432x288 with 1 Axes>"
      ]
     },
     "metadata": {
      "needs_background": "light"
     },
     "output_type": "display_data"
    }
   ],
   "source": [
    "df['radio'].plot.box()"
   ]
  },
  {
   "cell_type": "code",
   "execution_count": 36,
   "id": "25b563b8",
   "metadata": {},
   "outputs": [
    {
     "data": {
      "text/plain": [
       "<AxesSubplot:>"
      ]
     },
     "execution_count": 36,
     "metadata": {},
     "output_type": "execute_result"
    },
    {
     "data": {
      "image/png": "[encoded data removed]",
      "text/plain": [
       "<Figure size 432x288 with 1 Axes>"
      ]
     },
     "metadata": {
      "needs_background": "light"
     },
     "output_type": "display_data"
    }
   ],
   "source": [
    "df['newspaper'].plot.box()"
   ]
  },
  {
   "cell_type": "markdown",
   "id": "fb0936e3",
   "metadata": {},
   "source": [
    "Here there is a outliers above 100.  "
   ]
  },
  {
   "cell_type": "code",
   "execution_count": 38,
   "id": "f9ec28f6",
   "metadata": {},
   "outputs": [
    {
     "data": {
      "text/plain": [
       "<AxesSubplot:>"
      ]
     },
     "execution_count": 38,
     "metadata": {},
     "output_type": "execute_result"
    },
    {
     "data": {
      "image/png": "[encoded data removed]",
      "text/plain": [
       "<Figure size 432x288 with 1 Axes>"
      ]
     },
     "metadata": {
      "needs_background": "light"
     },
     "output_type": "display_data"
    }
   ],
   "source": [
    "df['sales'].plot.box()"
   ]
  },
  {
   "cell_type": "code",
   "execution_count": 39,
   "id": "3ecbeed0",
   "metadata": {},
   "outputs": [
    {
     "data": {
      "text/plain": [
       "Unnamed: 0       AxesSubplot(0.125,0.125;0.133621x0.755)\n",
       "TV            AxesSubplot(0.285345,0.125;0.133621x0.755)\n",
       "radio          AxesSubplot(0.44569,0.125;0.133621x0.755)\n",
       "newspaper     AxesSubplot(0.606034,0.125;0.133621x0.755)\n",
       "sales         AxesSubplot(0.766379,0.125;0.133621x0.755)\n",
       "dtype: object"
      ]
     },
     "execution_count": 39,
     "metadata": {},
     "output_type": "execute_result"
    },
    {
     "data": {
      "image/png": "[encoded data removed]",
      "text/plain": [
       "<Figure size 432x288 with 5 Axes>"
      ]
     },
     "metadata": {
      "needs_background": "light"
     },
     "output_type": "display_data"
    }
   ],
   "source": [
    "df.plot(kind='box', subplots=True, layout=(1,5))"
   ]
  },
  {
   "cell_type": "code",
   "execution_count": 40,
   "id": "36ab05e2",
   "metadata": {},
   "outputs": [
    {
     "data": {
      "image/png": "[encoded data removed]",
      "text/plain": [
       "<Figure size 360x360 with 3 Axes>"
      ]
     },
     "metadata": {
      "needs_background": "light"
     },
     "output_type": "display_data"
    }
   ],
   "source": [
    "fig, axs = plt.subplots(3, figsize = (5,5))\n",
    "plt1 = sns.boxplot(df['TV'], ax = axs[0])\n",
    "plt2 = sns.boxplot(df['newspaper'], ax = axs[1])\n",
    "plt3 = sns.boxplot(df['radio'], ax = axs[2])\n",
    "plt.tight_layout()"
   ]
  },
  {
   "cell_type": "markdown",
   "id": "f7e600e4",
   "metadata": {},
   "source": [
    "# Normal distribution curve:"
   ]
  },
  {
   "cell_type": "code",
   "execution_count": 41,
   "id": "b1c9b074",
   "metadata": {},
   "outputs": [
    {
     "data": {
      "text/plain": [
       "<AxesSubplot:xlabel='TV', ylabel='Density'>"
      ]
     },
     "execution_count": 41,
     "metadata": {},
     "output_type": "execute_result"
    },
    {
     "data": {
      "image/png": "[encoded data removed]",
      "text/plain": [
       "<Figure size 432x288 with 1 Axes>"
      ]
     },
     "metadata": {
      "needs_background": "light"
     },
     "output_type": "display_data"
    }
   ],
   "source": [
    "sns.distplot(df['TV'])"
   ]
  },
  {
   "cell_type": "markdown",
   "id": "7921cf59",
   "metadata": {},
   "source": [
    "The building blocks are out of the curve so the data is not normalized here."
   ]
  },
  {
   "cell_type": "code",
   "execution_count": 42,
   "id": "903c5bd4",
   "metadata": {},
   "outputs": [
    {
     "data": {
      "text/plain": [
       "<seaborn.axisgrid.FacetGrid at 0x1fb05102160>"
      ]
     },
     "execution_count": 42,
     "metadata": {},
     "output_type": "execute_result"
    },
    {
     "data": {
      "image/png": "[encoded data removed]",
      "text/plain": [
       "<Figure size 360x360 with 1 Axes>"
      ]
     },
     "metadata": {
      "needs_background": "light"
     },
     "output_type": "display_data"
    }
   ],
   "source": [
    "sns.displot(df['TV'])"
   ]
  },
  {
   "cell_type": "code",
   "execution_count": 43,
   "id": "72db0f62",
   "metadata": {},
   "outputs": [
    {
     "data": {
      "text/plain": [
       "<AxesSubplot:xlabel='radio', ylabel='Density'>"
      ]
     },
     "execution_count": 43,
     "metadata": {},
     "output_type": "execute_result"
    },
    {
     "data": {
      "image/png": "[encoded data removed]",
      "text/plain": [
       "<Figure size 432x288 with 1 Axes>"
      ]
     },
     "metadata": {
      "needs_background": "light"
     },
     "output_type": "display_data"
    }
   ],
   "source": [
    "sns.distplot(df['radio'])"
   ]
  },
  {
   "cell_type": "markdown",
   "id": "4388c651",
   "metadata": {},
   "source": [
    "The data is not normalized since the building blocks are out of curve."
   ]
  },
  {
   "cell_type": "code",
   "execution_count": 44,
   "id": "5e790316",
   "metadata": {},
   "outputs": [
    {
     "data": {
      "text/plain": [
       "<seaborn.axisgrid.FacetGrid at 0x1fb05206070>"
      ]
     },
     "execution_count": 44,
     "metadata": {},
     "output_type": "execute_result"
    },
    {
     "data": {
      "image/png": "[encoded data removed]",
      "text/plain": [
       "<Figure size 360x360 with 1 Axes>"
      ]
     },
     "metadata": {
      "needs_background": "light"
     },
     "output_type": "display_data"
    }
   ],
   "source": [
    "sns.displot(df['radio'])"
   ]
  },
  {
   "cell_type": "code",
   "execution_count": 45,
   "id": "2f538903",
   "metadata": {},
   "outputs": [
    {
     "data": {
      "text/plain": [
       "<AxesSubplot:xlabel='newspaper', ylabel='Density'>"
      ]
     },
     "execution_count": 45,
     "metadata": {},
     "output_type": "execute_result"
    },
    {
     "data": {
      "image/png": "[encoded data removed]",
      "text/plain": [
       "<Figure size 432x288 with 1 Axes>"
      ]
     },
     "metadata": {
      "needs_background": "light"
     },
     "output_type": "display_data"
    }
   ],
   "source": [
    "sns.distplot(df['newspaper'])"
   ]
  },
  {
   "cell_type": "markdown",
   "id": "6d6f6ef6",
   "metadata": {},
   "source": [
    "The data is not normalized since building blocks are not lying inside the curve and also we can observe that there is a right skewed curve here."
   ]
  },
  {
   "cell_type": "code",
   "execution_count": 46,
   "id": "1945a02d",
   "metadata": {},
   "outputs": [
    {
     "data": {
      "text/plain": [
       "<seaborn.axisgrid.FacetGrid at 0x1fb053558b0>"
      ]
     },
     "execution_count": 46,
     "metadata": {},
     "output_type": "execute_result"
    },
    {
     "data": {
      "image/png": "[encoded data removed]",
      "text/plain": [
       "<Figure size 360x360 with 1 Axes>"
      ]
     },
     "metadata": {
      "needs_background": "light"
     },
     "output_type": "display_data"
    }
   ],
   "source": [
    "sns.displot(df['newspaper'])"
   ]
  },
  {
   "cell_type": "code",
   "execution_count": 47,
   "id": "760f5548",
   "metadata": {},
   "outputs": [
    {
     "data": {
      "text/plain": [
       "<AxesSubplot:xlabel='sales', ylabel='Density'>"
      ]
     },
     "execution_count": 47,
     "metadata": {},
     "output_type": "execute_result"
    },
    {
     "data": {
      "image/png": "[encoded data removed]",
      "text/plain": [
       "<Figure size 432x288 with 1 Axes>"
      ]
     },
     "metadata": {
      "needs_background": "light"
     },
     "output_type": "display_data"
    }
   ],
   "source": [
    "sns.distplot(df['sales'])"
   ]
  },
  {
   "cell_type": "markdown",
   "id": "2c3ddffb",
   "metadata": {},
   "source": [
    "Here the data is not normalized since building blocks are out of the curve."
   ]
  },
  {
   "cell_type": "code",
   "execution_count": 48,
   "id": "8e063f78",
   "metadata": {},
   "outputs": [
    {
     "data": {
      "text/plain": [
       "<seaborn.axisgrid.PairGrid at 0x1fb0363de50>"
      ]
     },
     "execution_count": 48,
     "metadata": {},
     "output_type": "execute_result"
    },
    {
     "data": {
      "image/png": "[encoded data removed]",
      "text/plain": [
       "<Figure size 900x900 with 30 Axes>"
      ]
     },
     "metadata": {
      "needs_background": "light"
     },
     "output_type": "display_data"
    }
   ],
   "source": [
    "sns.pairplot(df)"
   ]
  },
  {
   "cell_type": "markdown",
   "id": "8c10fd2e",
   "metadata": {},
   "source": [
    "# Removing outliers:"
   ]
  },
  {
   "cell_type": "code",
   "execution_count": 49,
   "id": "cbfd994f",
   "metadata": {},
   "outputs": [
    {
     "data": {
      "text/plain": [
       "array([[1.72341210e+00, 9.69852266e-01, 9.81522472e-01, 1.77894547e+00,\n",
       "        1.55205313e+00],\n",
       "       [1.70609137e+00, 1.19737623e+00, 1.08280781e+00, 6.69578760e-01,\n",
       "        6.96046111e-01],\n",
       "       [1.68877065e+00, 1.51615499e+00, 1.52846331e+00, 1.78354865e+00,\n",
       "        9.07405869e-01],\n",
       "       [1.67144992e+00, 5.20496822e-02, 1.21785493e+00, 1.28640506e+00,\n",
       "        8.60330287e-01],\n",
       "       [1.65412920e+00, 3.94182198e-01, 8.41613655e-01, 1.28180188e+00,\n",
       "        2.15683025e-01],\n",
       "       [1.63680847e+00, 1.61540845e+00, 1.73103399e+00, 2.04592999e+00,\n",
       "        1.31091086e+00],\n",
       "       [1.61948775e+00, 1.04557682e+00, 6.43904671e-01, 3.24708413e-01,\n",
       "        4.27042783e-01],\n",
       "       [1.60216702e+00, 3.13436589e-01, 2.47406325e-01, 8.72486994e-01,\n",
       "        1.58039455e-01],\n",
       "       [1.58484630e+00, 1.61657614e+00, 1.42906863e+00, 1.36042422e+00,\n",
       "        1.77205942e+00],\n",
       "       [1.56752558e+00, 6.16042873e-01, 1.39530685e+00, 4.30581584e-01,\n",
       "        6.57617064e-01],\n",
       "       [1.55020485e+00, 9.45155670e-01, 1.17923146e+00, 2.92486143e-01,\n",
       "        1.04190753e+00],\n",
       "       [1.53288413e+00, 7.90028350e-01, 4.96973404e-02, 1.22232878e+00,\n",
       "        6.48970529e-01],\n",
       "       [1.51556340e+00, 1.43908760e+00, 7.99208859e-01, 1.62704048e+00,\n",
       "        9.26620392e-01],\n",
       "       [1.49824268e+00, 5.78501712e-01, 1.05768905e+00, 1.07502697e+00,\n",
       "        8.30547775e-01],\n",
       "       [1.48092195e+00, 6.66253447e-01, 6.50657027e-01, 7.11007392e-01,\n",
       "        9.56402904e-01],\n",
       "       [1.46360123e+00, 5.64664612e-01, 1.65000572e+00, 1.02862691e+00,\n",
       "        1.60969670e+00],\n",
       "       [1.44628050e+00, 9.25304978e-01, 9.00494200e-01, 3.84117072e+00,\n",
       "        2.92541119e-01],\n",
       "       [1.42895978e+00, 1.56887609e+00, 1.10306488e+00, 1.16211917e+00,\n",
       "        1.99398717e+00],\n",
       "       [1.41163905e+00, 9.08957349e-01, 1.86635121e-01, 5.64073843e-01,\n",
       "        5.23115400e-01],\n",
       "       [1.39431833e+00, 3.00679600e-03, 4.29449843e-02, 5.27248393e-01,\n",
       "        1.10963873e-01],\n",
       "       [1.37699760e+00, 8.33232798e-01, 2.99534513e-01, 1.05164281e+00,\n",
       "        7.64257669e-01],\n",
       "       [1.35967688e+00, 1.05509347e+00, 1.22649795e+00, 3.24708413e-01,\n",
       "        2.92541119e-01],\n",
       "       [1.34235616e+00, 1.56286250e+00, 4.97243498e-01, 8.76721921e-01,\n",
       "        1.61834324e+00],\n",
       "       [1.32503543e+00, 9.48833887e-01, 4.29719938e-01, 2.00422516e-01,\n",
       "        2.83894584e-01],\n",
       "       [1.30771471e+00, 9.89527805e-01, 7.20071247e-01, 5.64073843e-01,\n",
       "        8.30547775e-01],\n",
       "       [1.29039398e+00, 1.35285385e+00, 1.33453565e+00, 5.08835667e-01,\n",
       "        3.88613736e-01],\n",
       "       [1.27307326e+00, 4.83714657e-02, 4.07572210e-01, 8.26455181e-01,\n",
       "        1.87821967e-01],\n",
       "       [1.25575253e+00, 1.08662104e+00, 4.43224650e-01, 3.52327501e-01,\n",
       "        3.60752677e-01],\n",
       "       [1.23843181e+00, 1.18820988e+00, 2.59020377e-01, 3.52327501e-01,\n",
       "        9.37188380e-01],\n",
       "       [1.22111108e+00, 8.92609721e-01, 4.90491142e-01, 4.71641962e-01,\n",
       "        6.76831588e-01],\n",
       "       [1.20379036e+00, 1.70316018e+00, 3.40048650e-01, 5.82118314e-01,\n",
       "        1.41755147e+00],\n",
       "       [1.18646963e+00, 3.98677796e-01, 3.95958157e-01, 3.70371972e-01,\n",
       "        4.07828260e-01],\n",
       "       [1.16914891e+00, 5.82004775e-01, 1.46958277e+00, 2.55016247e-02,\n",
       "        8.49762299e-01],\n",
       "       [1.15182818e+00, 1.38438142e+00, 2.20396901e-01, 1.39264649e+00,\n",
       "        6.48970529e-01],\n",
       "       [1.13450746e+00, 5.99520091e-01, 1.47633512e+00, 1.06582061e+00,\n",
       "        8.68976822e-01],\n",
       "       [1.11718674e+00, 1.67747105e+00, 1.29402151e+00, 1.01518562e+00,\n",
       "        2.34897549e-01],\n",
       "       [1.09986601e+00, 1.39956136e+00, 1.38666383e+00, 1.17629696e+00,\n",
       "        2.18613240e+00],\n",
       "       [1.08254529e+00, 8.44734522e-01, 1.76479577e+00, 6.97197848e-01,\n",
       "        1.30178396e-01],\n",
       "       [1.06522456e+00, 1.21372386e+00, 2.32010953e-01, 2.09260624e-01,\n",
       "        7.53689682e-01],\n",
       "       [1.04790384e+00, 9.45330823e-01, 9.74770116e-01, 6.65620024e-02,\n",
       "        1.43676599e+00],\n",
       "       [1.03058311e+00, 6.47570443e-01, 6.50927121e-02, 4.81492770e-02,\n",
       "        4.95254341e-01],\n",
       "       [1.01326239e+00, 3.49810063e-01, 6.84418807e-01, 3.74975153e-01,\n",
       "        5.91326959e-01],\n",
       "       [9.95941664e-01, 1.71133400e+00, 2.99534513e-01, 1.32359877e+00,\n",
       "        1.28304980e+00],\n",
       "       [9.78620939e-01, 6.98948705e-01, 1.00367020e+00, 1.91216154e-01,\n",
       "        2.15683025e-01],\n",
       "       [9.61300215e-01, 1.42390765e+00, 1.64487393e-01, 5.86721496e-01,\n",
       "        1.06112206e+00],\n",
       "       [9.43979490e-01, 3.27623995e-01, 5.15880000e-02, 4.35460956e-02,\n",
       "        1.68607443e-01],\n",
       "       [9.26658765e-01, 6.69581357e-01, 9.02384859e-01, 2.36879713e-01,\n",
       "        6.57617064e-01],\n",
       "       [9.09338041e-01, 1.08428567e+00, 1.23135965e+00, 5.54867481e-01,\n",
       "        1.76341289e+00],\n",
       "       [8.92017316e-01, 9.35989321e-01, 5.03995854e-01, 8.90531465e-01,\n",
       "        1.49392920e-01],\n",
       "       [8.74696592e-01, 9.35814168e-01, 7.80842451e-01, 2.87514708e-01,\n",
       "        8.30547775e-01],\n",
       "       [8.57375867e-01, 6.16042873e-01, 1.36154507e+00, 1.86244718e-01,\n",
       "        5.03900877e-01],\n",
       "       [8.40055142e-01, 5.44638766e-01, 9.22641928e-01, 1.24074150e+00,\n",
       "        6.38402541e-01],\n",
       "       [8.22734418e-01, 8.09879042e-01, 1.24486436e+00, 4.16403786e-01,\n",
       "        1.64812575e+00],\n",
       "       [8.05413693e-01, 4.15200577e-01, 1.54872038e+00, 1.29561142e+00,\n",
       "        1.37912242e+00],\n",
       "       [7.88092969e-01, 1.35051848e+00, 3.73810430e-01, 6.74550196e-01,\n",
       "        1.18697718e+00],\n",
       "       [7.70772244e-01, 6.05533683e-01, 1.76479577e+00, 1.35545278e+00,\n",
       "        1.85948550e+00],\n",
       "       [7.53451519e-01, 1.63175608e+00, 3.26543937e-01, 4.99261050e-01,\n",
       "        1.63755776e+00],\n",
       "       [7.36130795e-01, 1.26606546e-01, 2.74415749e-01, 6.42327927e-01,\n",
       "        1.58039455e-01],\n",
       "       [7.18810070e-01, 7.44488528e-01, 1.77830048e+00, 3.28943340e-01,\n",
       "        1.87870003e+00],\n",
       "       [7.01489346e-01, 7.43320840e-01, 4.21076922e-01, 9.78360166e-01,\n",
       "        8.41115763e-01],\n",
       "       [6.84168621e-01, 1.09228433e+00, 1.43582099e+00, 4.21375221e-01,\n",
       "        1.13798015e+00],\n",
       "       [6.66847897e-01, 1.33417085e+00, 1.31238792e+00, 1.11148417e+00,\n",
       "        1.95555812e+00],\n",
       "       [6.49527172e-01, 1.07727954e+00, 5.24252922e-01, 1.49787521e-01,\n",
       "        3.22323631e-01],\n",
       "       [6.32206447e-01, 5.17781948e-01, 4.27829278e-01, 1.01978880e+00,\n",
       "        4.32326777e-03],\n",
       "       [6.14885723e-01, 1.86158622e-01, 1.31914027e+00, 7.61366196e-02,\n",
       "        7.64257669e-01],\n",
       "       [5.97564998e-01, 9.11292725e-01, 9.42898996e-01, 1.36502740e+00,\n",
       "        9.07405869e-01],\n",
       "       [5.80244274e-01, 1.34917564e+00, 9.02114765e-02, 1.30518604e+00,\n",
       "        8.68976822e-01],\n",
       "       [5.62923549e-01, 9.04082253e-02, 5.91776482e-01, 9.36931533e-01,\n",
       "        1.19610408e-01],\n",
       "       [5.45602824e-01, 1.05509347e+00, 2.86029801e-01, 9.00106083e-01,\n",
       "        9.37188380e-01],\n",
       "       [5.28282100e-01, 8.14549794e-01, 1.39341619e+00, 1.54390703e-01,\n",
       "        1.59048218e+00],\n",
       "       [5.10961375e-01, 6.07869059e-01, 4.95352838e-01, 3.74975153e-01,\n",
       "        8.21901240e-01],\n",
       "       [4.93640651e-01, 4.34876116e-01, 6.05281194e-01, 5.27524584e-02,\n",
       "        3.11755643e-01],\n",
       "       [4.76319926e-01, 1.40405696e+00, 6.57409383e-01, 5.18042030e-01,\n",
       "        1.00347849e+00],\n",
       "       [4.58999202e-01, 2.06009314e-01, 1.18598381e+00, 3.43397329e-02,\n",
       "        5.80758971e-01],\n",
       "       [4.41678477e-01, 7.74848409e-01, 9.02114765e-02, 8.03439274e-01,\n",
       "        5.72112435e-01],\n",
       "       [4.24357752e-01, 1.51965805e+00, 1.37991148e+00, 2.70878810e+00,\n",
       "        1.02269301e+00],\n",
       "       [4.07037028e-01, 1.39588315e+00, 1.46283041e+00, 4.53597491e-01,\n",
       "        1.36855443e+00],\n",
       "       [3.89716303e-01, 3.09933525e-01, 3.53553362e-01, 7.52804279e-01,\n",
       "        3.41057791e-02],\n",
       "       [3.72395579e-01, 1.65394214e+00, 4.48086346e-01, 9.73756984e-01,\n",
       "        1.67598681e+00],\n",
       "       [3.55074854e-01, 3.62479475e-01, 1.05093669e+00, 3.43121138e-01,\n",
       "        5.80758971e-01],\n",
       "       [3.37754129e-01, 8.24883830e-01, 2.32010953e-01, 3.79946589e-01,\n",
       "        4.27042783e-01],\n",
       "       [3.20433405e-01, 1.08311798e+00, 1.29402151e+00, 2.92117889e-01,\n",
       "        3.30970166e-01],\n",
       "       [3.03112680e-01, 8.37728396e-01, 2.00139833e-01, 8.95779092e-02,\n",
       "        5.23115400e-01],\n",
       "       [2.85791956e-01, 9.18298852e-01, 1.43393033e+00, 2.32276531e-01,\n",
       "        8.11813615e-02],\n",
       "       [2.68471231e-01, 7.76016097e-01, 1.33264499e+00, 1.49419267e-01,\n",
       "        1.47519504e+00],\n",
       "       [2.51150506e-01, 5.38975481e-01, 3.28434597e-01, 1.61783412e+00,\n",
       "        2.26251013e-01],\n",
       "       [2.33829782e-01, 8.26051518e-01, 2.86029801e-01, 6.69947015e-01,\n",
       "        3.88613736e-01],\n",
       "       [2.16509057e-01, 4.24366926e-01, 1.17058844e+00, 1.50275459e+00,\n",
       "        3.79967201e-01],\n",
       "       [1.99188333e-01, 6.85928986e-01, 1.50982681e-01, 1.97227908e+00,\n",
       "        2.15683025e-01],\n",
       "       [1.81867608e-01, 4.34876116e-01, 1.65675807e+00, 9.59579186e-01,\n",
       "        5.14468865e-01],\n",
       "       [1.64546884e-01, 1.48792614e-01, 1.24000266e+00, 9.78360166e-01,\n",
       "        5.42329924e-01],\n",
       "       [1.47226159e-01, 1.38303858e+00, 1.46958277e+00, 1.12593816e-01,\n",
       "        1.29169634e+00],\n",
       "       [1.29905434e-01, 8.25058983e-01, 6.91171163e-01, 1.30942097e+00,\n",
       "        1.03326100e+00],\n",
       "       [1.12584710e-01, 1.21273132e+00, 8.93741844e-01, 1.92164409e+00,\n",
       "        1.57126765e+00],\n",
       "       [9.52639852e-02, 4.62900623e-01, 6.25538262e-01, 9.04709264e-01,\n",
       "        4.84686354e-01],\n",
       "       [7.79432606e-02, 1.89836839e-01, 5.62876398e-01, 1.02862691e+00,\n",
       "        5.52897912e-01],\n",
       "       [6.06225361e-02, 5.90353742e-01, 1.33453565e+00, 1.13486833e+00,\n",
       "        4.46257307e-01],\n",
       "       [4.33018115e-02, 4.42057396e-01, 1.52873340e-01, 3.93756133e-01,\n",
       "        2.83894584e-01],\n",
       "       [2.59810869e-02, 1.66579418e+00, 1.28537849e+00, 9.50372823e-01,\n",
       "        2.18613240e+00],\n",
       "       [8.66036229e-03, 1.38283424e-01, 1.24486436e+00, 7.06404211e-01,\n",
       "        6.10541482e-01],\n",
       "       [8.66036229e-03, 8.79940308e-01, 1.28051680e+00, 8.85928284e-01,\n",
       "        4.46257307e-01],\n",
       "       [2.59810869e-02, 1.74402926e+00, 8.80237132e-01, 3.23815396e+00,\n",
       "        1.87870003e+00],\n",
       "       [4.33018115e-02, 1.55486384e+00, 8.88880147e-01, 4.21375221e-01,\n",
       "        1.49392920e-01],\n",
       "       [6.06225361e-02, 4.77088029e-01, 4.09462869e-01, 5.82486569e-01,\n",
       "        1.30178396e-01],\n",
       "       [7.79432606e-02, 1.06443498e+00, 7.45190011e-01, 1.16248742e+00,\n",
       "        1.28304980e+00],\n",
       "       [9.52639852e-02, 1.06755854e-01, 1.56222509e+00, 1.30942097e+00,\n",
       "        9.94831951e-01],\n",
       "       [1.12584710e-01, 1.42507534e+00, 8.28108943e-01, 3.93111688e-02,\n",
       "        1.31091086e+00],\n",
       "       [1.29905434e-01, 6.61407543e-01, 1.55061104e+00, 3.38517957e-01,\n",
       "        1.02269301e+00],\n",
       "       [1.47226159e-01, 1.56403019e+00, 1.54385868e+00, 2.28041604e-01,\n",
       "        1.67598681e+00],\n",
       "       [1.64546884e-01, 1.26527727e+00, 2.45515665e-01, 1.15328106e+00,\n",
       "        1.11011909e+00],\n",
       "       [1.81867608e-01, 9.19641692e-01, 1.01717491e+00, 1.19434143e+00,\n",
       "        1.19610408e-01],\n",
       "       [1.99188333e-01, 1.10530405e+00, 9.95027184e-01, 3.38517957e-01,\n",
       "        1.49440956e+00],\n",
       "       [2.16509057e-01, 3.34630122e-01, 5.31005278e-01, 1.29597968e+00,\n",
       "        1.48912557e-02],\n",
       "       [2.33829782e-01, 7.30476274e-01, 1.79882765e-01, 9.13915627e-01,\n",
       "        3.60752677e-01],\n",
       "       [2.51150506e-01, 8.03865450e-01, 1.58923451e+00, 1.81641536e-01,\n",
       "        1.10963873e-01],\n",
       "       [2.68471231e-01, 8.40063771e-01, 7.92456503e-01, 1.01942054e+00,\n",
       "        2.73326596e-01],\n",
       "       [2.85791956e-01, 9.15759131e-02, 6.05281194e-01, 2.28041604e-01,\n",
       "        3.50184689e-01],\n",
       "       [3.03112680e-01, 8.24883830e-01, 1.51684926e+00, 7.25185191e-01,\n",
       "        8.88191346e-01],\n",
       "       [3.20433405e-01, 2.49213762e-01, 9.20751268e-01, 2.23926360e+00,\n",
       "        3.60752677e-01],\n",
       "       [3.37754129e-01, 1.49046586e+00, 4.90491142e-01, 3.79946589e-01,\n",
       "        1.42619800e+00],\n",
       "       [3.55074854e-01, 6.70544700e-02, 2.38763309e-01, 7.20213755e-01,\n",
       "        2.83894584e-01],\n",
       "       [3.72395579e-01, 1.49747198e+00, 1.05606848e-01, 9.13547372e-01,\n",
       "        1.34933991e+00],\n",
       "       [3.89716303e-01, 8.98623313e-01, 1.40881156e+00, 6.88359740e-01,\n",
       "        4.65471830e-01],\n",
       "       [4.07037028e-01, 2.79573643e-01, 7.65447079e-01, 8.35661544e-01,\n",
       "        2.26251013e-01],\n",
       "       [4.24357752e-01, 9.62846140e-01, 6.10142891e-01, 2.00910454e+00,\n",
       "        1.09090457e+00],\n",
       "       [4.41678477e-01, 6.98773552e-01, 7.74090095e-01, 2.14232060e-01,\n",
       "        6.57617064e-01],\n",
       "       [4.58999202e-01, 1.62591764e+00, 1.05579839e+00, 9.22753735e-01,\n",
       "        1.42619800e+00],\n",
       "       [4.76319926e-01, 7.80511695e-01, 1.57086811e+00, 9.82963347e-01,\n",
       "        1.00347849e+00],\n",
       "       [4.93640651e-01, 8.55418865e-01, 1.73778635e+00, 1.25915423e+00,\n",
       "        2.05163074e+00],\n",
       "       [5.10961375e-01, 1.02105537e+00, 7.60585383e-01, 5.77515133e-01,\n",
       "        8.30547775e-01],\n",
       "       [5.28282100e-01, 1.70882347e+00, 1.10306488e+00, 1.00597925e+00,\n",
       "        2.38692417e+00],\n",
       "       [5.45602824e-01, 1.37971067e+00, 1.37504978e+00, 5.72911952e-01,\n",
       "        2.54112072e-01],\n",
       "       [5.62923549e-01, 1.61891151e+00, 2.65772733e-01, 1.30978922e+00,\n",
       "        1.59912871e+00],\n",
       "       [5.80244274e-01, 8.49580427e-01, 6.91171163e-01, 6.69578760e-01,\n",
       "        1.07169004e+00],\n",
       "       [5.97564998e-01, 1.28612050e+00, 1.03554132e+00, 1.61323094e+00,\n",
       "        6.19188018e-01],\n",
       "       [6.14885723e-01, 1.15300409e+00, 1.60273923e+00, 1.01518562e+00,\n",
       "        4.65471830e-01],\n",
       "       [6.32206447e-01, 1.41806922e+00, 1.06255074e+00, 9.78360166e-01,\n",
       "        8.68976822e-01],\n",
       "       [6.49527172e-01, 1.47896413e+00, 3.80562786e-01, 1.34164324e+00,\n",
       "        1.30226433e+00],\n",
       "       [6.66847897e-01, 1.21489154e+00, 1.77992105e-01, 4.62803854e-01,\n",
       "        8.49762299e-01],\n",
       "       [6.84168621e-01, 4.42057396e-01, 1.39341619e+00, 1.32820195e+00,\n",
       "        1.28304980e+00],\n",
       "       [7.01489346e-01, 8.59914463e-01, 4.22967582e-01, 8.12645637e-01,\n",
       "        5.99973494e-01],\n",
       "       [7.18810070e-01, 5.44813920e-01, 8.19465927e-01, 2.07354907e+00,\n",
       "        9.94831951e-01],\n",
       "       [7.36130795e-01, 8.57754241e-01, 6.70914095e-01, 3.38149702e-01,\n",
       "        1.16776266e+00],\n",
       "       [7.53451519e-01, 4.95595880e-01, 1.18598381e+00, 1.77038355e-01,\n",
       "        6.96046111e-01],\n",
       "       [7.70772244e-01, 5.93681653e-01, 5.71519414e-01, 3.84181516e-01,\n",
       "        5.03900877e-01],\n",
       "       [7.88092969e-01, 7.87313476e-02, 1.44257334e+00, 9.92169710e-01,\n",
       "        7.15260635e-01],\n",
       "       [8.05413693e-01, 1.08662104e+00, 1.07794612e+00, 1.00597925e+00,\n",
       "        1.58039455e-01],\n",
       "       [8.22734418e-01, 1.12281936e+00, 1.73778635e+00, 6.32753309e-01,\n",
       "        2.18613240e+00],\n",
       "       [8.40055142e-01, 1.27327593e+00, 1.15033137e+00, 8.58677450e-01,\n",
       "        5.99973494e-01],\n",
       "       [8.57375867e-01, 1.19504085e+00, 1.71239749e-01, 4.58200672e-01,\n",
       "        7.53689682e-01],\n",
       "       [8.74696592e-01, 1.56070228e+00, 6.32290618e-01, 2.96721070e-01,\n",
       "        3.99181724e-01],\n",
       "       [8.92017316e-01, 3.04095087e-01, 1.00367020e+00, 8.35293289e-01,\n",
       "        4.65471830e-01],\n",
       "       [9.09338041e-01, 5.90353742e-01, 2.43084817e-03, 7.52804279e-01,\n",
       "        4.95254341e-01],\n",
       "       [9.26658765e-01, 2.83251860e-01, 1.10981724e+00, 3.28943340e-01,\n",
       "        9.56402904e-01],\n",
       "       [9.43979490e-01, 4.75920341e-01, 1.46120984e-01, 9.69153803e-01,\n",
       "        3.03109107e-01],\n",
       "       [9.61300215e-01, 1.66912209e+00, 7.87594807e-01, 1.14407469e+00,\n",
       "        2.07949180e+00],\n",
       "       [9.78620939e-01, 6.20538471e-01, 1.36640677e+00, 9.18150553e-01,\n",
       "        2.45465537e-01],\n",
       "       [9.95941664e-01, 3.21989902e-02, 1.48308748e+00, 2.87882962e-01,\n",
       "        7.53689682e-01],\n",
       "       [1.01326239e+00, 1.58037782e+00, 9.20751268e-01, 6.74181942e-01,\n",
       "        1.29169634e+00],\n",
       "       [1.03058311e+00, 1.79152496e-01, 3.28434597e-01, 1.86244718e-01,\n",
       "        2.15683025e-01],\n",
       "       [1.04790384e+00, 2.97264113e-01, 3.48691665e-01, 6.72064478e-03,\n",
       "        7.25348259e-02],\n",
       "       [1.06522456e+00, 7.16288868e-01, 8.46475352e-01, 8.62912377e-01,\n",
       "        1.38824932e-01],\n",
       "       [1.08254529e+00, 4.82926468e-01, 3.48691665e-01, 2.28041604e-01,\n",
       "        1.68607443e-01],\n",
       "       [1.09986601e+00, 1.92172214e-01, 9.13998912e-01, 1.06582061e+00,\n",
       "        7.64257669e-01],\n",
       "       [1.11718674e+00, 3.48467222e-01, 5.78271770e-01, 1.15788424e+00,\n",
       "        4.07828260e-01],\n",
       "       [1.13450746e+00, 1.02123053e+00, 1.34128800e+00, 2.49704176e+00,\n",
       "        4.07828260e-01],\n",
       "       [1.15182818e+00, 1.50798117e+00, 9.68017760e-01, 4.12168859e-01,\n",
       "        1.15719467e+00],\n",
       "       [1.16914891e+00, 6.97781017e-01, 1.21974559e+00, 5.13438849e-01,\n",
       "        3.50184689e-01],\n",
       "       [1.18646963e+00, 7.98202165e-01, 2.26879163e-02, 1.24497643e+00,\n",
       "        5.91326959e-01],\n",
       "       [1.20379036e+00, 1.60273904e+00, 8.55118367e-01, 1.11185242e+00,\n",
       "        1.87821967e-01],\n",
       "       [1.22111108e+00, 1.13315340e+00, 7.87594807e-01, 5.59470662e-01,\n",
       "        1.08033658e+00],\n",
       "       [1.23843181e+00, 2.03849092e-01, 1.59625696e-01, 7.75451931e-01,\n",
       "        9.17493494e-02],\n",
       "       [1.25575253e+00, 1.48813048e+00, 2.13644545e-01, 6.23915201e-01,\n",
       "        1.23405277e+00],\n",
       "       [1.27307326e+00, 2.49388915e-01, 1.09145083e+00, 8.17248818e-01,\n",
       "        4.46257307e-01],\n",
       "       [1.29039398e+00, 8.79940308e-01, 1.34128800e+00, 8.03439274e-01,\n",
       "        4.84686354e-01],\n",
       "       [1.30771471e+00, 1.51633014e+00, 1.73103399e+00, 5.17673775e-01,\n",
       "        2.49356478e+00],\n",
       "       [1.32503543e+00, 1.18353913e+00, 4.68343414e-01, 4.72010216e-01,\n",
       "        1.18697718e+00],\n",
       "       [1.34235616e+00, 2.70407294e-01, 1.04418434e+00, 2.13863806e-01,\n",
       "        4.46257307e-01],\n",
       "       [1.35967688e+00, 1.51399477e+00, 1.41556392e+00, 3.15502050e-01,\n",
       "        4.27042783e-01],\n",
       "       [1.37699760e+00, 2.16693657e-01, 8.95632503e-01, 5.96296113e-01,\n",
       "        2.73326596e-01],\n",
       "       [1.39431833e+00, 1.11601758e-01, 1.39530685e+00, 1.02439198e+00,\n",
       "        6.76831588e-01],\n",
       "       [1.41163905e+00, 8.34400486e-01, 1.20624088e+00, 1.45184340e-01,\n",
       "        3.50184689e-01],\n",
       "       [1.42895978e+00, 1.06075676e+00, 1.18598381e+00, 3.93111688e-02,\n",
       "        1.02269301e+00],\n",
       "       [1.44628050e+00, 1.64127273e+00, 1.33264499e+00, 1.89862818e+00,\n",
       "        2.33984859e+00],\n",
       "       [1.46360123e+00, 1.24659427e+00, 1.32616272e-01, 2.55016247e-02,\n",
       "        6.87399576e-01],\n",
       "       [1.48092195e+00, 6.76762637e-01, 1.47444446e+00, 5.04232486e-01,\n",
       "        1.64812575e+00],\n",
       "       [1.49824268e+00, 8.80728498e-02, 1.42906863e+00, 1.82009791e-01,\n",
       "        7.15260635e-01],\n",
       "       [1.51556340e+00, 5.14454038e-01, 3.67058074e-01, 5.68677025e-01,\n",
       "        6.29756005e-01],\n",
       "       [1.53288413e+00, 1.62258973e+00, 6.32290618e-01, 1.23613832e+00,\n",
       "        3.60752677e-01],\n",
       "       [1.55020485e+00, 1.49863967e+00, 7.53833027e-01, 3.29311594e-01,\n",
       "        1.40698348e+00],\n",
       "       [1.56752558e+00, 1.25576062e+00, 1.20435022e+00, 1.13947151e+00,\n",
       "        6.19188018e-01],\n",
       "       [1.58484630e+00, 8.35393020e-01, 8.41613655e-01, 1.13026515e+00,\n",
       "        7.92118728e-01],\n",
       "       [1.60216702e+00, 1.51615499e+00, 1.29402151e+00, 4.81492770e-02,\n",
       "        1.56069967e+00],\n",
       "       [1.61948775e+00, 2.30705910e-01, 1.26512143e+00, 1.24074150e+00,\n",
       "        1.07169004e+00],\n",
       "       [1.63680847e+00, 3.10313024e-02, 8.32970639e-01, 1.13026515e+00,\n",
       "        6.29756005e-01],\n",
       "       [1.65412920e+00, 1.27094056e+00, 1.32103093e+00, 7.71217005e-01,\n",
       "        1.23405277e+00],\n",
       "       [1.67144992e+00, 6.17035408e-01, 1.24000266e+00, 1.03359834e+00,\n",
       "        8.30547775e-01],\n",
       "       [1.68877065e+00, 3.49810063e-01, 9.42898996e-01, 1.11185242e+00,\n",
       "        2.34897549e-01],\n",
       "       [1.70609137e+00, 1.59456522e+00, 1.26512143e+00, 1.64085003e+00,\n",
       "        2.20534693e+00],\n",
       "       [1.72341210e+00, 9.93206022e-01, 9.90165488e-01, 1.00597925e+00,\n",
       "        1.19610408e-01]])"
      ]
     },
     "execution_count": 49,
     "metadata": {},
     "output_type": "execute_result"
    }
   ],
   "source": [
    "#from scipy.stats import zscore\n",
    "z=np.abs(zscore(df))\n",
    "z"
   ]
  },
  {
   "cell_type": "code",
   "execution_count": 50,
   "id": "a8ace593",
   "metadata": {},
   "outputs": [
    {
     "name": "stdout",
     "output_type": "stream",
     "text": [
      "(array([ 16, 101], dtype=int64), array([3, 3], dtype=int64))\n"
     ]
    }
   ],
   "source": [
    "threshold=3\n",
    "print(np.where(z>3))"
   ]
  },
  {
   "cell_type": "code",
   "execution_count": 51,
   "id": "cc37fd4e",
   "metadata": {},
   "outputs": [],
   "source": [
    "df_new=df[(z<3).all(axis=1)]"
   ]
  },
  {
   "cell_type": "code",
   "execution_count": 52,
   "id": "648f2ff9",
   "metadata": {},
   "outputs": [
    {
     "data": {
      "text/html": [
       "<div>\n",
       "<style scoped>\n",
       "    .dataframe tbody tr th:only-of-type {\n",
       "        vertical-align: middle;\n",
       "    }\n",
       "\n",
       "    .dataframe tbody tr th {\n",
       "        vertical-align: top;\n",
       "    }\n",
       "\n",
       "    .dataframe thead th {\n",
       "        text-align: right;\n",
       "    }\n",
       "</style>\n",
       "<table border=\"1\" class=\"dataframe\">\n",
       "  <thead>\n",
       "    <tr style=\"text-align: right;\">\n",
       "      <th></th>\n",
       "      <th>Unnamed: 0</th>\n",
       "      <th>TV</th>\n",
       "      <th>radio</th>\n",
       "      <th>newspaper</th>\n",
       "      <th>sales</th>\n",
       "    </tr>\n",
       "  </thead>\n",
       "  <tbody>\n",
       "    <tr>\n",
       "      <th>0</th>\n",
       "      <td>1</td>\n",
       "      <td>230.1</td>\n",
       "      <td>37.8</td>\n",
       "      <td>69.2</td>\n",
       "      <td>22.1</td>\n",
       "    </tr>\n",
       "    <tr>\n",
       "      <th>1</th>\n",
       "      <td>2</td>\n",
       "      <td>44.5</td>\n",
       "      <td>39.3</td>\n",
       "      <td>45.1</td>\n",
       "      <td>10.4</td>\n",
       "    </tr>\n",
       "    <tr>\n",
       "      <th>2</th>\n",
       "      <td>3</td>\n",
       "      <td>17.2</td>\n",
       "      <td>45.9</td>\n",
       "      <td>69.3</td>\n",
       "      <td>9.3</td>\n",
       "    </tr>\n",
       "    <tr>\n",
       "      <th>3</th>\n",
       "      <td>4</td>\n",
       "      <td>151.5</td>\n",
       "      <td>41.3</td>\n",
       "      <td>58.5</td>\n",
       "      <td>18.5</td>\n",
       "    </tr>\n",
       "    <tr>\n",
       "      <th>4</th>\n",
       "      <td>5</td>\n",
       "      <td>180.8</td>\n",
       "      <td>10.8</td>\n",
       "      <td>58.4</td>\n",
       "      <td>12.9</td>\n",
       "    </tr>\n",
       "    <tr>\n",
       "      <th>...</th>\n",
       "      <td>...</td>\n",
       "      <td>...</td>\n",
       "      <td>...</td>\n",
       "      <td>...</td>\n",
       "      <td>...</td>\n",
       "    </tr>\n",
       "    <tr>\n",
       "      <th>195</th>\n",
       "      <td>196</td>\n",
       "      <td>38.2</td>\n",
       "      <td>3.7</td>\n",
       "      <td>13.8</td>\n",
       "      <td>7.6</td>\n",
       "    </tr>\n",
       "    <tr>\n",
       "      <th>196</th>\n",
       "      <td>197</td>\n",
       "      <td>94.2</td>\n",
       "      <td>4.9</td>\n",
       "      <td>8.1</td>\n",
       "      <td>9.7</td>\n",
       "    </tr>\n",
       "    <tr>\n",
       "      <th>197</th>\n",
       "      <td>198</td>\n",
       "      <td>177.0</td>\n",
       "      <td>9.3</td>\n",
       "      <td>6.4</td>\n",
       "      <td>12.8</td>\n",
       "    </tr>\n",
       "    <tr>\n",
       "      <th>198</th>\n",
       "      <td>199</td>\n",
       "      <td>283.6</td>\n",
       "      <td>42.0</td>\n",
       "      <td>66.2</td>\n",
       "      <td>25.5</td>\n",
       "    </tr>\n",
       "    <tr>\n",
       "      <th>199</th>\n",
       "      <td>200</td>\n",
       "      <td>232.1</td>\n",
       "      <td>8.6</td>\n",
       "      <td>8.7</td>\n",
       "      <td>13.4</td>\n",
       "    </tr>\n",
       "  </tbody>\n",
       "</table>\n",
       "<p>198 rows × 5 columns</p>\n",
       "</div>"
      ],
      "text/plain": [
       "     Unnamed: 0     TV  radio  newspaper  sales\n",
       "0             1  230.1   37.8       69.2   22.1\n",
       "1             2   44.5   39.3       45.1   10.4\n",
       "2             3   17.2   45.9       69.3    9.3\n",
       "3             4  151.5   41.3       58.5   18.5\n",
       "4             5  180.8   10.8       58.4   12.9\n",
       "..          ...    ...    ...        ...    ...\n",
       "195         196   38.2    3.7       13.8    7.6\n",
       "196         197   94.2    4.9        8.1    9.7\n",
       "197         198  177.0    9.3        6.4   12.8\n",
       "198         199  283.6   42.0       66.2   25.5\n",
       "199         200  232.1    8.6        8.7   13.4\n",
       "\n",
       "[198 rows x 5 columns]"
      ]
     },
     "execution_count": 52,
     "metadata": {},
     "output_type": "execute_result"
    }
   ],
   "source": [
    "df_new"
   ]
  },
  {
   "cell_type": "code",
   "execution_count": 53,
   "id": "6aeee344",
   "metadata": {},
   "outputs": [
    {
     "name": "stdout",
     "output_type": "stream",
     "text": [
      "df shape: (200, 5)\n",
      "df_new shape: (198, 5)\n"
     ]
    }
   ],
   "source": [
    "print(\"df shape:\",df.shape)\n",
    "print(\"df_new shape:\",df_new.shape)"
   ]
  },
  {
   "cell_type": "markdown",
   "id": "59e10460",
   "metadata": {},
   "source": [
    "# Calculating the loss percent:"
   ]
  },
  {
   "cell_type": "code",
   "execution_count": 54,
   "id": "d758c7d1",
   "metadata": {},
   "outputs": [
    {
     "data": {
      "text/plain": [
       "1.0"
      ]
     },
     "execution_count": 54,
     "metadata": {},
     "output_type": "execute_result"
    }
   ],
   "source": [
    "loss_percent=(200-198)/200*100\n",
    "loss_percent"
   ]
  },
  {
   "cell_type": "markdown",
   "id": "b5bdf0d6",
   "metadata": {},
   "source": [
    "Since the loss percent is 1 which is less than 10 so we can proceed."
   ]
  },
  {
   "cell_type": "markdown",
   "id": "c588601e",
   "metadata": {},
   "source": [
    "# Feature Engineering:"
   ]
  },
  {
   "cell_type": "code",
   "execution_count": 55,
   "id": "4439279c",
   "metadata": {},
   "outputs": [],
   "source": [
    "from sklearn.preprocessing import StandardScaler  #using standardScaler for scaling the data\n",
    "scaler = StandardScaler()\n",
    "scaledX = scaler.fit_transform(df)"
   ]
  },
  {
   "cell_type": "code",
   "execution_count": 56,
   "id": "e9f591aa",
   "metadata": {},
   "outputs": [
    {
     "data": {
      "text/plain": [
       "array([[-1.72341210e+00,  9.69852266e-01,  9.81522472e-01,\n",
       "         1.77894547e+00,  1.55205313e+00],\n",
       "       [-1.70609137e+00, -1.19737623e+00,  1.08280781e+00,\n",
       "         6.69578760e-01, -6.96046111e-01],\n",
       "       [-1.68877065e+00, -1.51615499e+00,  1.52846331e+00,\n",
       "         1.78354865e+00, -9.07405869e-01],\n",
       "       [-1.67144992e+00,  5.20496822e-02,  1.21785493e+00,\n",
       "         1.28640506e+00,  8.60330287e-01],\n",
       "       [-1.65412920e+00,  3.94182198e-01, -8.41613655e-01,\n",
       "         1.28180188e+00, -2.15683025e-01],\n",
       "       [-1.63680847e+00, -1.61540845e+00,  1.73103399e+00,\n",
       "         2.04592999e+00, -1.31091086e+00],\n",
       "       [-1.61948775e+00, -1.04557682e+00,  6.43904671e-01,\n",
       "        -3.24708413e-01, -4.27042783e-01],\n",
       "       [-1.60216702e+00, -3.13436589e-01, -2.47406325e-01,\n",
       "        -8.72486994e-01, -1.58039455e-01],\n",
       "       [-1.58484630e+00, -1.61657614e+00, -1.42906863e+00,\n",
       "        -1.36042422e+00, -1.77205942e+00],\n",
       "       [-1.56752558e+00,  6.16042873e-01, -1.39530685e+00,\n",
       "        -4.30581584e-01, -6.57617064e-01],\n",
       "       [-1.55020485e+00, -9.45155670e-01, -1.17923146e+00,\n",
       "        -2.92486143e-01, -1.04190753e+00],\n",
       "       [-1.53288413e+00,  7.90028350e-01,  4.96973404e-02,\n",
       "        -1.22232878e+00,  6.48970529e-01],\n",
       "       [-1.51556340e+00, -1.43908760e+00,  7.99208859e-01,\n",
       "         1.62704048e+00, -9.26620392e-01],\n",
       "       [-1.49824268e+00, -5.78501712e-01, -1.05768905e+00,\n",
       "        -1.07502697e+00, -8.30547775e-01],\n",
       "       [-1.48092195e+00,  6.66253447e-01,  6.50657027e-01,\n",
       "         7.11007392e-01,  9.56402904e-01],\n",
       "       [-1.46360123e+00,  5.64664612e-01,  1.65000572e+00,\n",
       "         1.02862691e+00,  1.60969670e+00],\n",
       "       [-1.44628050e+00, -9.25304978e-01,  9.00494200e-01,\n",
       "         3.84117072e+00, -2.92541119e-01],\n",
       "       [-1.42895978e+00,  1.56887609e+00,  1.10306488e+00,\n",
       "         1.16211917e+00,  1.99398717e+00],\n",
       "       [-1.41163905e+00, -9.08957349e-01, -1.86635121e-01,\n",
       "        -5.64073843e-01, -5.23115400e-01],\n",
       "       [-1.39431833e+00,  3.00679600e-03,  4.29449843e-02,\n",
       "        -5.27248393e-01,  1.10963873e-01],\n",
       "       [-1.37699760e+00,  8.33232798e-01,  2.99534513e-01,\n",
       "         1.05164281e+00,  7.64257669e-01],\n",
       "       [-1.35967688e+00,  1.05509347e+00, -1.22649795e+00,\n",
       "        -3.24708413e-01, -2.92541119e-01],\n",
       "       [-1.34235616e+00, -1.56286250e+00, -4.97243498e-01,\n",
       "         8.76721921e-01, -1.61834324e+00],\n",
       "       [-1.32503543e+00,  9.48833887e-01, -4.29719938e-01,\n",
       "        -2.00422516e-01,  2.83894584e-01],\n",
       "       [-1.30771471e+00, -9.89527805e-01, -7.20071247e-01,\n",
       "        -5.64073843e-01, -8.30547775e-01],\n",
       "       [-1.29039398e+00,  1.35285385e+00, -1.33453565e+00,\n",
       "        -5.08835667e-01, -3.88613736e-01],\n",
       "       [-1.27307326e+00, -4.83714657e-02,  4.07572210e-01,\n",
       "        -8.26455181e-01,  1.87821967e-01],\n",
       "       [-1.25575253e+00,  1.08662104e+00, -4.43224650e-01,\n",
       "        -3.52327501e-01,  3.60752677e-01],\n",
       "       [-1.23843181e+00,  1.18820988e+00,  2.59020377e-01,\n",
       "        -3.52327501e-01,  9.37188380e-01],\n",
       "       [-1.22111108e+00, -8.92609721e-01, -4.90491142e-01,\n",
       "         4.71641962e-01, -6.76831588e-01],\n",
       "       [-1.20379036e+00,  1.70316018e+00,  3.40048650e-01,\n",
       "         5.82118314e-01,  1.41755147e+00],\n",
       "       [-1.18646963e+00, -3.98677796e-01, -3.95958157e-01,\n",
       "         3.70371972e-01, -4.07828260e-01],\n",
       "       [-1.16914891e+00, -5.82004775e-01, -1.46958277e+00,\n",
       "        -2.55016247e-02, -8.49762299e-01],\n",
       "       [-1.15182818e+00,  1.38438142e+00, -2.20396901e-01,\n",
       "        -1.39264649e+00,  6.48970529e-01],\n",
       "       [-1.13450746e+00, -5.99520091e-01, -1.47633512e+00,\n",
       "        -1.06582061e+00, -8.68976822e-01],\n",
       "       [-1.11718674e+00,  1.67747105e+00, -1.29402151e+00,\n",
       "        -1.01518562e+00, -2.34897549e-01],\n",
       "       [-1.09986601e+00,  1.39956136e+00,  1.38666383e+00,\n",
       "        -1.17629696e+00,  2.18613240e+00],\n",
       "       [-1.08254529e+00, -8.44734522e-01,  1.76479577e+00,\n",
       "         6.97197848e-01,  1.30178396e-01],\n",
       "       [-1.06522456e+00, -1.21372386e+00,  2.32010953e-01,\n",
       "         2.09260624e-01, -7.53689682e-01],\n",
       "       [-1.04790384e+00,  9.45330823e-01,  9.74770116e-01,\n",
       "         6.65620024e-02,  1.43676599e+00],\n",
       "       [-1.03058311e+00,  6.47570443e-01, -6.50927121e-02,\n",
       "         4.81492770e-02,  4.95254341e-01],\n",
       "       [-1.01326239e+00,  3.49810063e-01,  6.84418807e-01,\n",
       "         3.74975153e-01,  5.91326959e-01],\n",
       "       [-9.95941664e-01,  1.71133400e+00,  2.99534513e-01,\n",
       "        -1.32359877e+00,  1.28304980e+00],\n",
       "       [-9.78620939e-01,  6.98948705e-01, -1.00367020e+00,\n",
       "        -1.91216154e-01, -2.15683025e-01],\n",
       "       [-9.61300215e-01, -1.42390765e+00,  1.64487393e-01,\n",
       "         5.86721496e-01, -1.06112206e+00],\n",
       "       [-9.43979490e-01,  3.27623995e-01, -5.15880000e-02,\n",
       "         4.35460956e-02,  1.68607443e-01],\n",
       "       [-9.26658765e-01, -6.69581357e-01, -9.02384859e-01,\n",
       "         2.36879713e-01, -6.57617064e-01],\n",
       "       [-9.09338041e-01,  1.08428567e+00,  1.23135965e+00,\n",
       "        -5.54867481e-01,  1.76341289e+00],\n",
       "       [-8.92017316e-01,  9.35989321e-01, -5.03995854e-01,\n",
       "         8.90531465e-01,  1.49392920e-01],\n",
       "       [-8.74696592e-01, -9.35814168e-01, -7.80842451e-01,\n",
       "         2.87514708e-01, -8.30547775e-01],\n",
       "       [-8.57375867e-01,  6.16042873e-01, -1.36154507e+00,\n",
       "         1.86244718e-01, -5.03900877e-01],\n",
       "       [-8.40055142e-01, -5.44638766e-01, -9.22641928e-01,\n",
       "        -1.24074150e+00, -6.38402541e-01],\n",
       "       [-8.22734418e-01,  8.09879042e-01,  1.24486436e+00,\n",
       "         4.16403786e-01,  1.64812575e+00],\n",
       "       [-8.05413693e-01,  4.15200577e-01,  1.54872038e+00,\n",
       "         1.29561142e+00,  1.37912242e+00],\n",
       "       [-7.88092969e-01,  1.35051848e+00,  3.73810430e-01,\n",
       "        -6.74550196e-01,  1.18697718e+00],\n",
       "       [-7.70772244e-01,  6.05533683e-01,  1.76479577e+00,\n",
       "         1.35545278e+00,  1.85948550e+00],\n",
       "       [-7.53451519e-01, -1.63175608e+00,  3.26543937e-01,\n",
       "         4.99261050e-01, -1.63755776e+00],\n",
       "       [-7.36130795e-01, -1.26606546e-01, -2.74415749e-01,\n",
       "        -6.42327927e-01, -1.58039455e-01],\n",
       "       [-7.18810070e-01,  7.44488528e-01,  1.77830048e+00,\n",
       "         3.28943340e-01,  1.87870003e+00],\n",
       "       [-7.01489346e-01,  7.43320840e-01,  4.21076922e-01,\n",
       "        -9.78360166e-01,  8.41115763e-01],\n",
       "       [-6.84168621e-01, -1.09228433e+00, -1.43582099e+00,\n",
       "        -4.21375221e-01, -1.13798015e+00],\n",
       "       [-6.66847897e-01,  1.33417085e+00,  1.31238792e+00,\n",
       "         1.11148417e+00,  1.95555812e+00],\n",
       "       [-6.49527172e-01,  1.07727954e+00, -5.24252922e-01,\n",
       "        -1.49787521e-01,  3.22323631e-01],\n",
       "       [-6.32206447e-01, -5.17781948e-01,  4.27829278e-01,\n",
       "        -1.01978880e+00, -4.32326777e-03],\n",
       "       [-6.14885723e-01, -1.86158622e-01,  1.31914027e+00,\n",
       "        -7.61366196e-02,  7.64257669e-01],\n",
       "       [-5.97564998e-01, -9.11292725e-01, -9.42898996e-01,\n",
       "        -1.36502740e+00, -9.07405869e-01],\n",
       "       [-5.80244274e-01, -1.34917564e+00,  9.02114765e-02,\n",
       "        -1.30518604e+00, -8.68976822e-01],\n",
       "       [-5.62923549e-01, -9.04082253e-02, -5.91776482e-01,\n",
       "        -9.36931533e-01, -1.19610408e-01],\n",
       "       [-5.45602824e-01,  1.05509347e+00,  2.86029801e-01,\n",
       "        -9.00106083e-01,  9.37188380e-01],\n",
       "       [-5.28282100e-01,  8.14549794e-01,  1.39341619e+00,\n",
       "        -1.54390703e-01,  1.59048218e+00],\n",
       "       [-5.10961375e-01,  6.07869059e-01,  4.95352838e-01,\n",
       "         3.74975153e-01,  8.21901240e-01],\n",
       "       [-4.93640651e-01, -4.34876116e-01, -6.05281194e-01,\n",
       "         5.27524584e-02, -3.11755643e-01],\n",
       "       [-4.76319926e-01, -1.40405696e+00,  6.57409383e-01,\n",
       "        -5.18042030e-01, -1.00347849e+00],\n",
       "       [-4.58999202e-01, -2.06009314e-01, -1.18598381e+00,\n",
       "         3.43397329e-02, -5.80758971e-01],\n",
       "       [-4.41678477e-01,  7.74848409e-01,  9.02114765e-02,\n",
       "        -8.03439274e-01,  5.72112435e-01],\n",
       "       [-4.24357752e-01, -1.51965805e+00,  1.37991148e+00,\n",
       "         2.70878810e+00, -1.02269301e+00],\n",
       "       [-4.07037028e-01, -1.39588315e+00, -1.46283041e+00,\n",
       "        -4.53597491e-01, -1.36855443e+00],\n",
       "       [-3.89716303e-01, -3.09933525e-01,  3.53553362e-01,\n",
       "        -7.52804279e-01,  3.41057791e-02],\n",
       "       [-3.72395579e-01, -1.65394214e+00,  4.48086346e-01,\n",
       "        -9.73756984e-01, -1.67598681e+00],\n",
       "       [-3.55074854e-01, -3.62479475e-01, -1.05093669e+00,\n",
       "        -3.43121138e-01, -5.80758971e-01],\n",
       "       [-3.37754129e-01, -8.24883830e-01,  2.32010953e-01,\n",
       "        -3.79946589e-01, -4.27042783e-01],\n",
       "       [-3.20433405e-01,  1.08311798e+00, -1.29402151e+00,\n",
       "         2.92117889e-01, -3.30970166e-01],\n",
       "       [-3.03112680e-01, -8.37728396e-01, -2.00139833e-01,\n",
       "         8.95779092e-02, -5.23115400e-01],\n",
       "       [-2.85791956e-01, -9.18298852e-01,  1.43393033e+00,\n",
       "         2.32276531e-01, -8.11813615e-02],\n",
       "       [-2.68471231e-01,  7.76016097e-01,  1.33264499e+00,\n",
       "         1.49419267e-01,  1.47519504e+00],\n",
       "       [-2.51150506e-01,  5.38975481e-01, -3.28434597e-01,\n",
       "         1.61783412e+00,  2.26251013e-01],\n",
       "       [-2.33829782e-01, -8.26051518e-01,  2.86029801e-01,\n",
       "        -6.69947015e-01, -3.88613736e-01],\n",
       "       [-2.16509057e-01, -4.24366926e-01,  1.17058844e+00,\n",
       "         1.50275459e+00,  3.79967201e-01],\n",
       "       [-1.99188333e-01, -6.85928986e-01,  1.50982681e-01,\n",
       "         1.97227908e+00, -2.15683025e-01],\n",
       "       [-1.81867608e-01, -4.34876116e-01,  1.65675807e+00,\n",
       "         9.59579186e-01,  5.14468865e-01],\n",
       "       [-1.64546884e-01, -1.48792614e-01, -1.24000266e+00,\n",
       "        -9.78360166e-01, -5.42329924e-01],\n",
       "       [-1.47226159e-01, -1.38303858e+00, -1.46958277e+00,\n",
       "         1.12593816e-01, -1.29169634e+00],\n",
       "       [-1.29905434e-01,  8.25058983e-01,  6.91171163e-01,\n",
       "         1.30942097e+00,  1.03326100e+00],\n",
       "       [-1.12584710e-01,  1.21273132e+00,  8.93741844e-01,\n",
       "         1.92164409e+00,  1.57126765e+00],\n",
       "       [-9.52639852e-02, -4.62900623e-01, -6.25538262e-01,\n",
       "        -9.04709264e-01, -4.84686354e-01],\n",
       "       [-7.79432606e-02,  1.89836839e-01,  5.62876398e-01,\n",
       "         1.02862691e+00,  5.52897912e-01],\n",
       "       [-6.06225361e-02,  5.90353742e-01, -1.33453565e+00,\n",
       "        -1.13486833e+00, -4.46257307e-01],\n",
       "       [-4.33018115e-02,  4.42057396e-01, -1.52873340e-01,\n",
       "        -3.93756133e-01,  2.83894584e-01],\n",
       "       [-2.59810869e-02,  1.66579418e+00,  1.28537849e+00,\n",
       "         9.50372823e-01,  2.18613240e+00],\n",
       "       [-8.66036229e-03, -1.38283424e-01,  1.24486436e+00,\n",
       "         7.06404211e-01,  6.10541482e-01],\n",
       "       [ 8.66036229e-03,  8.79940308e-01, -1.28051680e+00,\n",
       "         8.85928284e-01, -4.46257307e-01],\n",
       "       [ 2.59810869e-02,  1.74402926e+00,  8.80237132e-01,\n",
       "         3.23815396e+00,  1.87870003e+00],\n",
       "       [ 4.33018115e-02,  1.55486384e+00, -8.88880147e-01,\n",
       "        -4.21375221e-01,  1.49392920e-01],\n",
       "       [ 6.06225361e-02,  4.77088029e-01, -4.09462869e-01,\n",
       "        -5.82486569e-01,  1.30178396e-01],\n",
       "       [ 7.79432606e-02,  1.06443498e+00,  7.45190011e-01,\n",
       "        -1.16248742e+00,  1.28304980e+00],\n",
       "       [ 9.52639852e-02, -1.06755854e-01,  1.56222509e+00,\n",
       "         1.30942097e+00,  9.94831951e-01],\n",
       "       [ 1.12584710e-01, -1.42507534e+00, -8.28108943e-01,\n",
       "        -3.93111688e-02, -1.31091086e+00],\n",
       "       [ 1.29905434e-01, -6.61407543e-01, -1.55061104e+00,\n",
       "        -3.38517957e-01, -1.02269301e+00],\n",
       "       [ 1.47226159e-01, -1.56403019e+00, -1.54385868e+00,\n",
       "        -2.28041604e-01, -1.67598681e+00],\n",
       "       [ 1.64546884e-01,  1.26527727e+00,  2.45515665e-01,\n",
       "        -1.15328106e+00,  1.11011909e+00],\n",
       "       [ 1.81867608e-01,  9.19641692e-01, -1.01717491e+00,\n",
       "         1.19434143e+00, -1.19610408e-01],\n",
       "       [ 1.99188333e-01,  1.10530405e+00,  9.95027184e-01,\n",
       "        -3.38517957e-01,  1.49440956e+00],\n",
       "       [ 2.16509057e-01,  3.34630122e-01, -5.31005278e-01,\n",
       "        -1.29597968e+00,  1.48912557e-02],\n",
       "       [ 2.33829782e-01,  7.30476274e-01, -1.79882765e-01,\n",
       "        -9.13915627e-01,  3.60752677e-01],\n",
       "       [ 2.51150506e-01, -8.03865450e-01,  1.58923451e+00,\n",
       "         1.81641536e-01,  1.10963873e-01],\n",
       "       [ 2.68471231e-01, -8.40063771e-01,  7.92456503e-01,\n",
       "         1.01942054e+00, -2.73326596e-01],\n",
       "       [ 2.85791956e-01, -9.15759131e-02, -6.05281194e-01,\n",
       "        -2.28041604e-01, -3.50184689e-01],\n",
       "       [ 3.03112680e-01, -8.24883830e-01, -1.51684926e+00,\n",
       "        -7.25185191e-01, -8.88191346e-01],\n",
       "       [ 3.20433405e-01, -2.49213762e-01,  9.20751268e-01,\n",
       "         2.23926360e+00,  3.60752677e-01],\n",
       "       [ 3.37754129e-01, -1.49046586e+00, -4.90491142e-01,\n",
       "        -3.79946589e-01, -1.42619800e+00],\n",
       "       [ 3.55074854e-01, -6.70544700e-02,  2.38763309e-01,\n",
       "         7.20213755e-01,  2.83894584e-01],\n",
       "       [ 3.72395579e-01, -1.49747198e+00, -1.05606848e-01,\n",
       "         9.13547372e-01, -1.34933991e+00],\n",
       "       [ 3.89716303e-01,  8.98623313e-01, -1.40881156e+00,\n",
       "        -6.88359740e-01, -4.65471830e-01],\n",
       "       [ 4.07037028e-01, -2.79573643e-01,  7.65447079e-01,\n",
       "        -8.35661544e-01,  2.26251013e-01],\n",
       "       [ 4.24357752e-01,  9.62846140e-01,  6.10142891e-01,\n",
       "         2.00910454e+00,  1.09090457e+00],\n",
       "       [ 4.41678477e-01, -6.98773552e-01, -7.74090095e-01,\n",
       "        -2.14232060e-01, -6.57617064e-01],\n",
       "       [ 4.58999202e-01, -1.62591764e+00,  1.05579839e+00,\n",
       "         9.22753735e-01, -1.42619800e+00],\n",
       "       [ 4.76319926e-01, -7.80511695e-01, -1.57086811e+00,\n",
       "        -9.82963347e-01, -1.00347849e+00],\n",
       "       [ 4.93640651e-01,  8.55418865e-01,  1.73778635e+00,\n",
       "        -1.25915423e+00,  2.05163074e+00],\n",
       "       [ 5.10961375e-01, -1.02105537e+00, -7.60585383e-01,\n",
       "         5.77515133e-01, -8.30547775e-01],\n",
       "       [ 5.28282100e-01, -1.70882347e+00,  1.10306488e+00,\n",
       "        -1.00597925e+00, -2.38692417e+00],\n",
       "       [ 5.45602824e-01,  1.37971067e+00, -1.37504978e+00,\n",
       "         5.72911952e-01, -2.54112072e-01],\n",
       "       [ 5.62923549e-01, -1.61891151e+00,  2.65772733e-01,\n",
       "        -1.30978922e+00, -1.59912871e+00],\n",
       "       [ 5.80244274e-01,  8.49580427e-01,  6.91171163e-01,\n",
       "         6.69578760e-01,  1.07169004e+00],\n",
       "       [ 5.97564998e-01, -1.28612050e+00,  1.03554132e+00,\n",
       "         1.61323094e+00, -6.19188018e-01],\n",
       "       [ 6.14885723e-01, -1.15300409e+00,  1.60273923e+00,\n",
       "        -1.01518562e+00, -4.65471830e-01],\n",
       "       [ 6.32206447e-01, -1.41806922e+00,  1.06255074e+00,\n",
       "        -9.78360166e-01, -8.68976822e-01],\n",
       "       [ 6.49527172e-01,  1.47896413e+00,  3.80562786e-01,\n",
       "         1.34164324e+00,  1.30226433e+00],\n",
       "       [ 6.66847897e-01, -1.21489154e+00,  1.77992105e-01,\n",
       "        -4.62803854e-01, -8.49762299e-01],\n",
       "       [ 6.84168621e-01,  4.42057396e-01,  1.39341619e+00,\n",
       "        -1.32820195e+00,  1.28304980e+00],\n",
       "       [ 7.01489346e-01, -8.59914463e-01, -4.22967582e-01,\n",
       "        -8.12645637e-01, -5.99973494e-01],\n",
       "       [ 7.18810070e-01,  5.44813920e-01,  8.19465927e-01,\n",
       "         2.07354907e+00,  9.94831951e-01],\n",
       "       [ 7.36130795e-01,  8.57754241e-01,  6.70914095e-01,\n",
       "         3.38149702e-01,  1.16776266e+00],\n",
       "       [ 7.53451519e-01, -4.95595880e-01, -1.18598381e+00,\n",
       "         1.77038355e-01, -6.96046111e-01],\n",
       "       [ 7.70772244e-01, -5.93681653e-01, -5.71519414e-01,\n",
       "         3.84181516e-01, -5.03900877e-01],\n",
       "       [ 7.88092969e-01, -7.87313476e-02, -1.44257334e+00,\n",
       "        -9.92169710e-01, -7.15260635e-01],\n",
       "       [ 8.05413693e-01,  1.08662104e+00, -1.07794612e+00,\n",
       "        -1.00597925e+00, -1.58039455e-01],\n",
       "       [ 8.22734418e-01,  1.12281936e+00,  1.73778635e+00,\n",
       "         6.32753309e-01,  2.18613240e+00],\n",
       "       [ 8.40055142e-01, -1.27327593e+00,  1.15033137e+00,\n",
       "        -8.58677450e-01, -5.99973494e-01],\n",
       "       [ 8.57375867e-01, -1.19504085e+00,  1.71239749e-01,\n",
       "        -4.58200672e-01, -7.53689682e-01],\n",
       "       [ 8.74696592e-01,  1.56070228e+00, -6.32290618e-01,\n",
       "         2.96721070e-01,  3.99181724e-01],\n",
       "       [ 8.92017316e-01, -3.04095087e-01, -1.00367020e+00,\n",
       "         8.35293289e-01, -4.65471830e-01],\n",
       "       [ 9.09338041e-01,  5.90353742e-01,  2.43084817e-03,\n",
       "        -7.52804279e-01,  4.95254341e-01],\n",
       "       [ 9.26658765e-01,  2.83251860e-01,  1.10981724e+00,\n",
       "         3.28943340e-01,  9.56402904e-01],\n",
       "       [ 9.43979490e-01,  4.75920341e-01, -1.46120984e-01,\n",
       "        -9.69153803e-01,  3.03109107e-01],\n",
       "       [ 9.61300215e-01, -1.66912209e+00, -7.87594807e-01,\n",
       "        -1.14407469e+00, -2.07949180e+00],\n",
       "       [ 9.78620939e-01, -6.20538471e-01,  1.36640677e+00,\n",
       "         9.18150553e-01,  2.45465537e-01],\n",
       "       [ 9.95941664e-01,  3.21989902e-02, -1.48308748e+00,\n",
       "        -2.87882962e-01, -7.53689682e-01],\n",
       "       [ 1.01326239e+00, -1.58037782e+00,  9.20751268e-01,\n",
       "         6.74181942e-01, -1.29169634e+00],\n",
       "       [ 1.03058311e+00, -1.79152496e-01, -3.28434597e-01,\n",
       "         1.86244718e-01, -2.15683025e-01],\n",
       "       [ 1.04790384e+00,  2.97264113e-01, -3.48691665e-01,\n",
       "         6.72064478e-03,  7.25348259e-02],\n",
       "       [ 1.06522456e+00, -7.16288868e-01,  8.46475352e-01,\n",
       "         8.62912377e-01, -1.38824932e-01],\n",
       "       [ 1.08254529e+00,  4.82926468e-01, -3.48691665e-01,\n",
       "        -2.28041604e-01,  1.68607443e-01],\n",
       "       [ 1.09986601e+00,  1.92172214e-01,  9.13998912e-01,\n",
       "        -1.06582061e+00,  7.64257669e-01],\n",
       "       [ 1.11718674e+00, -3.48467222e-01, -5.78271770e-01,\n",
       "        -1.15788424e+00, -4.07828260e-01],\n",
       "       [ 1.13450746e+00,  1.02123053e+00, -1.34128800e+00,\n",
       "         2.49704176e+00, -4.07828260e-01],\n",
       "       [ 1.15182818e+00, -1.50798117e+00,  9.68017760e-01,\n",
       "        -4.12168859e-01, -1.15719467e+00],\n",
       "       [ 1.16914891e+00,  6.97781017e-01, -1.21974559e+00,\n",
       "        -5.13438849e-01, -3.50184689e-01],\n",
       "       [ 1.18646963e+00,  7.98202165e-01,  2.26879163e-02,\n",
       "         1.24497643e+00,  5.91326959e-01],\n",
       "       [ 1.20379036e+00,  1.60273904e+00, -8.55118367e-01,\n",
       "        -1.11185242e+00,  1.87821967e-01],\n",
       "       [ 1.22111108e+00, -1.13315340e+00, -7.87594807e-01,\n",
       "        -5.59470662e-01, -1.08033658e+00],\n",
       "       [ 1.23843181e+00,  2.03849092e-01, -1.59625696e-01,\n",
       "         7.75451931e-01,  9.17493494e-02],\n",
       "       [ 1.25575253e+00, -1.48813048e+00, -2.13644545e-01,\n",
       "        -6.23915201e-01, -1.23405277e+00],\n",
       "       [ 1.27307326e+00,  2.49388915e-01, -1.09145083e+00,\n",
       "        -8.17248818e-01, -4.46257307e-01],\n",
       "       [ 1.29039398e+00,  8.79940308e-01, -1.34128800e+00,\n",
       "        -8.03439274e-01, -4.84686354e-01],\n",
       "       [ 1.30771471e+00,  1.51633014e+00,  1.73103399e+00,\n",
       "         5.17673775e-01,  2.49356478e+00],\n",
       "       [ 1.32503543e+00,  1.18353913e+00,  4.68343414e-01,\n",
       "        -4.72010216e-01,  1.18697718e+00],\n",
       "       [ 1.34235616e+00,  2.70407294e-01, -1.04418434e+00,\n",
       "         2.13863806e-01, -4.46257307e-01],\n",
       "       [ 1.35967688e+00,  1.51399477e+00, -1.41556392e+00,\n",
       "        -3.15502050e-01, -4.27042783e-01],\n",
       "       [ 1.37699760e+00,  2.16693657e-01, -8.95632503e-01,\n",
       "        -5.96296113e-01, -2.73326596e-01],\n",
       "       [ 1.39431833e+00,  1.11601758e-01, -1.39530685e+00,\n",
       "        -1.02439198e+00, -6.76831588e-01],\n",
       "       [ 1.41163905e+00,  8.34400486e-01, -1.20624088e+00,\n",
       "        -1.45184340e-01, -3.50184689e-01],\n",
       "       [ 1.42895978e+00, -1.06075676e+00, -1.18598381e+00,\n",
       "        -3.93111688e-02, -1.02269301e+00],\n",
       "       [ 1.44628050e+00,  1.64127273e+00,  1.33264499e+00,\n",
       "         1.89862818e+00,  2.33984859e+00],\n",
       "       [ 1.46360123e+00,  1.24659427e+00, -1.32616272e-01,\n",
       "        -2.55016247e-02,  6.87399576e-01],\n",
       "       [ 1.48092195e+00,  6.76762637e-01,  1.47444446e+00,\n",
       "        -5.04232486e-01,  1.64812575e+00],\n",
       "       [ 1.49824268e+00, -8.80728498e-02, -1.42906863e+00,\n",
       "        -1.82009791e-01, -7.15260635e-01],\n",
       "       [ 1.51556340e+00,  5.14454038e-01,  3.67058074e-01,\n",
       "        -5.68677025e-01,  6.29756005e-01],\n",
       "       [ 1.53288413e+00,  1.62258973e+00, -6.32290618e-01,\n",
       "        -1.23613832e+00,  3.60752677e-01],\n",
       "       [ 1.55020485e+00, -1.49863967e+00, -7.53833027e-01,\n",
       "        -3.29311594e-01, -1.40698348e+00],\n",
       "       [ 1.56752558e+00, -1.25576062e+00,  1.20435022e+00,\n",
       "        -1.13947151e+00, -6.19188018e-01],\n",
       "       [ 1.58484630e+00, -8.35393020e-01, -8.41613655e-01,\n",
       "        -1.13026515e+00, -7.92118728e-01],\n",
       "       [ 1.60216702e+00, -1.51615499e+00, -1.29402151e+00,\n",
       "         4.81492770e-02, -1.56069967e+00],\n",
       "       [ 1.61948775e+00,  2.30705910e-01,  1.26512143e+00,\n",
       "        -1.24074150e+00,  1.07169004e+00],\n",
       "       [ 1.63680847e+00,  3.10313024e-02,  8.32970639e-01,\n",
       "        -1.13026515e+00,  6.29756005e-01],\n",
       "       [ 1.65412920e+00, -1.27094056e+00, -1.32103093e+00,\n",
       "        -7.71217005e-01, -1.23405277e+00],\n",
       "       [ 1.67144992e+00, -6.17035408e-01, -1.24000266e+00,\n",
       "        -1.03359834e+00, -8.30547775e-01],\n",
       "       [ 1.68877065e+00,  3.49810063e-01, -9.42898996e-01,\n",
       "        -1.11185242e+00, -2.34897549e-01],\n",
       "       [ 1.70609137e+00,  1.59456522e+00,  1.26512143e+00,\n",
       "         1.64085003e+00,  2.20534693e+00],\n",
       "       [ 1.72341210e+00,  9.93206022e-01, -9.90165488e-01,\n",
       "        -1.00597925e+00, -1.19610408e-01]])"
      ]
     },
     "execution_count": 56,
     "metadata": {},
     "output_type": "execute_result"
    }
   ],
   "source": [
    "scaledX"
   ]
  },
  {
   "cell_type": "code",
   "execution_count": 57,
   "id": "4c574812",
   "metadata": {},
   "outputs": [
    {
     "data": {
      "text/html": [
       "<div>\n",
       "<style scoped>\n",
       "    .dataframe tbody tr th:only-of-type {\n",
       "        vertical-align: middle;\n",
       "    }\n",
       "\n",
       "    .dataframe tbody tr th {\n",
       "        vertical-align: top;\n",
       "    }\n",
       "\n",
       "    .dataframe thead th {\n",
       "        text-align: right;\n",
       "    }\n",
       "</style>\n",
       "<table border=\"1\" class=\"dataframe\">\n",
       "  <thead>\n",
       "    <tr style=\"text-align: right;\">\n",
       "      <th></th>\n",
       "      <th>Unnamed: 0</th>\n",
       "      <th>TV</th>\n",
       "      <th>radio</th>\n",
       "      <th>newspaper</th>\n",
       "      <th>sales</th>\n",
       "    </tr>\n",
       "  </thead>\n",
       "  <tbody>\n",
       "    <tr>\n",
       "      <th>0</th>\n",
       "      <td>1</td>\n",
       "      <td>230.1</td>\n",
       "      <td>37.8</td>\n",
       "      <td>69.2</td>\n",
       "      <td>22.1</td>\n",
       "    </tr>\n",
       "    <tr>\n",
       "      <th>1</th>\n",
       "      <td>2</td>\n",
       "      <td>44.5</td>\n",
       "      <td>39.3</td>\n",
       "      <td>45.1</td>\n",
       "      <td>10.4</td>\n",
       "    </tr>\n",
       "    <tr>\n",
       "      <th>2</th>\n",
       "      <td>3</td>\n",
       "      <td>17.2</td>\n",
       "      <td>45.9</td>\n",
       "      <td>69.3</td>\n",
       "      <td>9.3</td>\n",
       "    </tr>\n",
       "    <tr>\n",
       "      <th>3</th>\n",
       "      <td>4</td>\n",
       "      <td>151.5</td>\n",
       "      <td>41.3</td>\n",
       "      <td>58.5</td>\n",
       "      <td>18.5</td>\n",
       "    </tr>\n",
       "    <tr>\n",
       "      <th>4</th>\n",
       "      <td>5</td>\n",
       "      <td>180.8</td>\n",
       "      <td>10.8</td>\n",
       "      <td>58.4</td>\n",
       "      <td>12.9</td>\n",
       "    </tr>\n",
       "    <tr>\n",
       "      <th>...</th>\n",
       "      <td>...</td>\n",
       "      <td>...</td>\n",
       "      <td>...</td>\n",
       "      <td>...</td>\n",
       "      <td>...</td>\n",
       "    </tr>\n",
       "    <tr>\n",
       "      <th>195</th>\n",
       "      <td>196</td>\n",
       "      <td>38.2</td>\n",
       "      <td>3.7</td>\n",
       "      <td>13.8</td>\n",
       "      <td>7.6</td>\n",
       "    </tr>\n",
       "    <tr>\n",
       "      <th>196</th>\n",
       "      <td>197</td>\n",
       "      <td>94.2</td>\n",
       "      <td>4.9</td>\n",
       "      <td>8.1</td>\n",
       "      <td>9.7</td>\n",
       "    </tr>\n",
       "    <tr>\n",
       "      <th>197</th>\n",
       "      <td>198</td>\n",
       "      <td>177.0</td>\n",
       "      <td>9.3</td>\n",
       "      <td>6.4</td>\n",
       "      <td>12.8</td>\n",
       "    </tr>\n",
       "    <tr>\n",
       "      <th>198</th>\n",
       "      <td>199</td>\n",
       "      <td>283.6</td>\n",
       "      <td>42.0</td>\n",
       "      <td>66.2</td>\n",
       "      <td>25.5</td>\n",
       "    </tr>\n",
       "    <tr>\n",
       "      <th>199</th>\n",
       "      <td>200</td>\n",
       "      <td>232.1</td>\n",
       "      <td>8.6</td>\n",
       "      <td>8.7</td>\n",
       "      <td>13.4</td>\n",
       "    </tr>\n",
       "  </tbody>\n",
       "</table>\n",
       "<p>198 rows × 5 columns</p>\n",
       "</div>"
      ],
      "text/plain": [
       "     Unnamed: 0     TV  radio  newspaper  sales\n",
       "0             1  230.1   37.8       69.2   22.1\n",
       "1             2   44.5   39.3       45.1   10.4\n",
       "2             3   17.2   45.9       69.3    9.3\n",
       "3             4  151.5   41.3       58.5   18.5\n",
       "4             5  180.8   10.8       58.4   12.9\n",
       "..          ...    ...    ...        ...    ...\n",
       "195         196   38.2    3.7       13.8    7.6\n",
       "196         197   94.2    4.9        8.1    9.7\n",
       "197         198  177.0    9.3        6.4   12.8\n",
       "198         199  283.6   42.0       66.2   25.5\n",
       "199         200  232.1    8.6        8.7   13.4\n",
       "\n",
       "[198 rows x 5 columns]"
      ]
     },
     "execution_count": 57,
     "metadata": {},
     "output_type": "execute_result"
    }
   ],
   "source": [
    "df_new"
   ]
  },
  {
   "cell_type": "markdown",
   "id": "159a0f91",
   "metadata": {},
   "source": [
    "# Splitting the data:"
   ]
  },
  {
   "cell_type": "code",
   "execution_count": 58,
   "id": "5eed2980",
   "metadata": {},
   "outputs": [],
   "source": [
    "x=df_new.iloc[:,-5:-1]\n",
    "y=df_new.iloc[:,-1:]"
   ]
  },
  {
   "cell_type": "code",
   "execution_count": 147,
   "id": "f0798303",
   "metadata": {},
   "outputs": [
    {
     "data": {
      "text/plain": [
       "Unnamed: 0   -0.006283\n",
       "TV           -0.082332\n",
       "radio         0.114842\n",
       "newspaper     0.650112\n",
       "sales         0.407130\n",
       "dtype: float64"
      ]
     },
     "execution_count": 147,
     "metadata": {},
     "output_type": "execute_result"
    }
   ],
   "source": [
    "df_new.skew()"
   ]
  },
  {
   "cell_type": "markdown",
   "id": "caec73c1",
   "metadata": {},
   "source": [
    "# Removing Skewness:"
   ]
  },
  {
   "cell_type": "code",
   "execution_count": 60,
   "id": "f71badc6",
   "metadata": {},
   "outputs": [
    {
     "data": {
      "text/plain": [
       "array([[-2.08112123,  0.95598306,  0.9691098 ,  1.6041965 ],\n",
       "       [-2.03541299, -1.19200349,  1.04623436,  0.83104401],\n",
       "       [-1.99380721, -1.6461253 ,  1.37296802,  1.60705249],\n",
       "       [-1.95500804,  0.14293428,  1.1473316 ,  1.28376774],\n",
       "       [-1.91830818,  0.45645241, -0.73502642,  1.28062154],\n",
       "       [-1.88326684, -1.8204008 ,  1.51543955,  1.76610727],\n",
       "       [-1.84958541, -1.00349358,  0.70309642, -0.10205346],\n",
       "       [-1.81704952, -0.20996049, -0.0876566 , -0.84968895],\n",
       "       [-1.78549851, -1.82264543, -1.62948287, -2.09866461],\n",
       "       [-1.754808  ,  0.652694  , -1.56152179, -0.22649933],\n",
       "       [-1.72487914, -0.88482761, -1.19258569, -0.06553382],\n",
       "       [-1.69563166,  0.80322028,  0.19357553, -1.59608414],\n",
       "       [-1.66699926, -1.52567125,  0.82725998,  1.50859232],\n",
       "       [-1.63892633, -0.48090308, -1.01613619, -1.23269654],\n",
       "       [-1.61136564,  0.69642374,  0.70856268,  0.86367455],\n",
       "       [-1.58427663,  0.60769456,  1.45886692,  1.1026083 ],\n",
       "       [-1.53137745,  1.44702338,  1.06152278,  1.19771741],\n",
       "       [-1.50550946, -0.84304109, -0.02834315, -0.39458775],\n",
       "       [-1.47999615,  0.09676151,  0.18741189, -0.346834  ],\n",
       "       [-1.45481611,  0.84017479,  0.41523303,  1.11921444],\n",
       "       [-1.42995011,  1.02746612, -1.2660875 , -0.10205346],\n",
       "       [-1.40538082, -1.72466475, -0.3430802 ,  0.99069777],\n",
       "       [-1.38109254,  0.93826742, -0.27204438,  0.0356758 ],\n",
       "       [-1.35707101, -0.93674187, -0.59023588, -0.39458775],\n",
       "       [-1.33330319,  1.27285397, -1.44792482, -0.32336998],\n",
       "       [-1.30977716,  0.04802388,  0.50756488, -0.7740548 ],\n",
       "       [-1.28648194,  1.05376032, -0.28612399, -0.13384051],\n",
       "       [-1.26340742,  1.13797152,  0.38008881, -0.13384051],\n",
       "       [-1.24054425, -0.82432769, -0.33590351,  0.66980347],\n",
       "       [-1.21788377,  1.55379249,  0.45008922,  0.76092313],\n",
       "       [-1.19541794, -0.29552539, -0.23711359,  0.58357284],\n",
       "       [-1.17313924, -0.48458608, -1.71704857,  0.21669702],\n",
       "       [-1.15104069,  1.29846636, -0.06117169, -2.2758464 ],\n",
       "       [-1.12911574, -0.50304519, -1.7324148 , -1.21299201],\n",
       "       [-1.10735826,  1.53345233, -1.3771472 , -1.10919482],\n",
       "       [-1.0857625 ,  1.31077419,  1.27109462, -1.4708598 ],\n",
       "       [-1.06432304, -0.77006157,  1.53885314,  0.85283827],\n",
       "       [-1.04303479, -1.21308859,  0.35649509,  0.44045973],\n",
       "       [-1.02189293,  0.93531131,  0.96392681,  0.30682057],\n",
       "       [-1.00089294,  0.68018031,  0.08742886,  0.28905461],\n",
       "       [-0.9800305 ,  0.4165774 ,  0.73579933,  0.58755182],\n",
       "       [-0.95930155,  1.56025605,  0.41523303, -1.93614969],\n",
       "       [-0.93870224,  0.72477076, -0.94246393,  0.04555612],\n",
       "       [-0.91822889, -1.50299171,  0.29691633,  0.76465678],\n",
       "       [-0.89787802,  0.39655706,  0.10007132,  0.2845934 ],\n",
       "       [-0.87764632, -0.5776425 , -0.81067203,  0.46554742],\n",
       "       [-0.85753062,  1.05181524,  1.15733673, -0.38254334],\n",
       "       [-0.83752792,  0.92742341, -0.35027362,  1.00104316],\n",
       "       [-0.81763533, -0.87399682, -0.66162053,  0.51093113],\n",
       "       [-0.79785012,  0.652694  , -1.49718987,  0.41936802],\n",
       "       [-0.77816964, -0.44544938, -0.83642883, -1.65023317],\n",
       "       [-0.75859139,  0.82021967,  1.16732335,  0.62310406],\n",
       "       [-0.73911296,  0.47526481,  1.38737344,  1.29005095],\n",
       "       [-0.71973204,  1.27095405,  0.47892195, -0.54515187],\n",
       "       [-0.7004464 ,  0.6435106 ,  1.53885314,  1.33059751],\n",
       "       [-0.68125392, -1.85241088,  0.43850198,  0.6928619 ],\n",
       "       [-0.66215257, -0.02694246, -0.11434473, -0.50002298],\n",
       "       [-0.64314036,  0.7640894 ,  1.54819296,  0.54749686],\n",
       "       [-0.62421541,  0.76308359,  0.51896989, -1.03801781],\n",
       "       [-0.6053759 , -1.06021399, -1.64357954, -0.21538949],\n",
       "       [-0.58662007,  1.25764412,  1.21698291,  1.16198054],\n",
       "       [-0.56794623,  1.04597746, -0.37195568,  0.08950799],\n",
       "       [-0.54935275, -0.41751811,  0.52466135, -1.11833294],\n",
       "       [-0.53083806, -0.08464536,  1.22192414,  0.16568658],\n",
       "       [-0.51240064, -0.84572231, -0.8624742 , -2.12148202],\n",
       "       [-0.49403901, -1.39528628,  0.23035564, -1.86501   ],\n",
       "       [-0.47575175,  0.00785902, -0.44537697, -0.96167639],\n",
       "       [-0.45753751,  1.02746612,  0.40355071, -0.89675177],\n",
       "       [-0.43939494,  0.8242145 ,  1.27598779,  0.08466485],\n",
       "       [-0.42132276,  0.64555228,  0.58117899,  0.58755182],\n",
       "       [-0.40331972, -0.33228945, -0.46028254,  0.29350789],\n",
       "       [-0.38538463, -1.47377148,  0.71402259, -0.33506848],\n",
       "       [-0.36751631, -0.10400761, -1.202897  ,  0.27564704],\n",
       "       [-0.34971362,  0.79019725,  0.23035564, -0.73744518],\n",
       "       [-0.33197546, -1.65184774,  1.26619715,  2.13937255],\n",
       "       [-0.31430078, -1.46187563, -1.70192244, -0.25453031],\n",
       "       [-0.29668853, -0.20647326,  0.46164538, -0.65947105],\n",
       "       [-0.2791377 , -1.89822804,  0.54169198, -1.02934918],\n",
       "       [-0.26164732, -0.25902053, -1.00678392, -0.12319395],\n",
       "       [-0.24421643, -0.74778651,  0.35649509, -0.16609367],\n",
       "       [-0.22684412,  1.05084254, -1.3771472 ,  0.51501874],\n",
       "       [-0.20952948, -0.76218508, -0.04143812,  0.32885333],\n",
       "       [-0.19227164, -0.85377796,  1.30525722,  0.46138274],\n",
       "       [-0.17506974,  0.79119975,  1.23179329,  0.38526098],\n",
       "       [-0.15792297,  0.58509675, -0.16835339,  1.50271112],\n",
       "       [-0.1408305 , -0.74909326,  0.40355071, -0.53863938],\n",
       "       [-0.12379156, -0.32158879,  1.11216604,  1.42831665],\n",
       "       [-0.10680538, -0.59523084,  0.28489586,  1.72217946],\n",
       "       [-0.08987121, -0.33228945,  1.4636021 ,  1.05224719],\n",
       "       [-0.07298832, -0.04837336, -1.28768913, -1.03801781],\n",
       "       [-0.05615601, -1.44333425, -1.71704857,  0.35069626],\n",
       "       [-0.03937357,  0.8331959 ,  0.74122791,  1.29945293],\n",
       "       [-0.02264034,  1.15818339,  0.90131402,  1.69166052],\n",
       "       [-0.00595566, -0.36093577, -0.4827855 , -0.90472726],\n",
       "       [ 0.01068113,  0.2709304 ,  0.63699688,  1.1026083 ],\n",
       "       [ 0.02727064,  0.63022667, -1.44792482, -1.36815587],\n",
       "       [ 0.0438135 ,  0.49923329,  0.00418624, -0.18240095],\n",
       "       [ 0.0603103 ,  1.52419364,  1.19717332,  1.04546953],\n",
       "       [ 0.07676164, -0.0382122 ,  1.16732335,  0.86006693],\n",
       "       [ 0.09316808,  0.87994389, -1.35429375,  0.99759864],\n",
       "       [ 0.1258485 ,  1.43581778, -0.79365568, -0.21538949],\n",
       "       [ 0.14212357,  0.53038105, -0.25104051, -0.41889554],\n",
       "       [ 0.15835592,  1.03526502,  0.78443582, -1.43568966],\n",
       "       [ 0.17454606, -0.00783277,  1.39695704,  1.29945293],\n",
       "       [ 0.19069448, -1.50472569, -0.71852874,  0.20289058],\n",
       "       [ 0.2068017 , -0.56887482, -1.92277996, -0.11788987],\n",
       "       [ 0.22286818, -1.72669682, -1.90334954,  0.00577961],\n",
       "       [ 0.23889439,  1.20134779,  0.36830859, -1.41277956],\n",
       "       [ 0.25488081,  0.91360226, -0.96064272,  1.22025052],\n",
       "       [ 0.27082788,  1.06930594,  0.97946003, -0.11788987],\n",
       "       [ 0.28673605,  0.40288531, -0.37921745, -1.83137048],\n",
       "       [ 0.30260575,  0.75201155, -0.02181365, -0.9207956 ],\n",
       "       [ 0.31843741, -0.72433929,  1.41607663,  0.41512911],\n",
       "       [ 0.33423145, -0.76480878,  0.82192754,  1.09594084],\n",
       "       [ 0.34998827,  0.00673953, -0.46028254,  0.00577961],\n",
       "       [ 0.36570828, -0.74778651, -1.83055994, -0.61831443],\n",
       "       [ 0.38139187, -0.14637764,  0.92227141,  1.87892616],\n",
       "       [ 0.39703943, -1.60487761, -0.33590351, -0.16609367],\n",
       "       [ 0.41265134,  0.03020546,  0.36240602,  0.87087647],\n",
       "       [ 0.42822797, -1.61600701,  0.04924266,  1.01820721],\n",
       "       [ 0.44376969,  0.89579959, -1.58822992, -0.56482448],\n",
       "       [ 0.45927685, -0.17634363,  0.8005392 , -0.78891695],\n",
       "       [ 0.47474981,  0.95008184,  0.67566908,  1.7442111 ],\n",
       "       [ 0.49018892, -0.60910057, -0.65359273,  0.02077604],\n",
       "       [ 0.50559451, -1.84082856,  1.02577993,  1.02504572],\n",
       "       [ 0.52096692, -0.69844865, -1.98495808, -1.04673537],\n",
       "       [ 0.53630647,  0.8590884 ,  1.52012963, -1.70718676],\n",
       "       [ 0.55161349, -0.97412104, -0.63761079,  0.75718457],\n",
       "       [ 0.56688829, -2.03323356,  1.06152278, -1.09108448],\n",
       "       [ 0.58213119,  1.2946762 , -1.52253007,  0.7534411 ],\n",
       "       [ 0.59734249, -1.82715302,  0.38596655, -1.88228781],\n",
       "       [ 0.6125225 ,  0.85411524,  0.74122791,  0.83104401],\n",
       "       [ 0.6276715 , -1.30867028,  1.0103861 ,  1.49976669],\n",
       "       [ 0.64278978, -1.13560137,  1.42561279, -1.10919482],\n",
       "       [ 0.65787764, -1.49434751,  1.03090107, -1.03801781],\n",
       "       [ 0.67293536,  1.37490294,  0.48466558,  1.32128542],\n",
       "       [ 0.6879632 , -1.21460127,  0.30890141, -0.2658475 ],\n",
       "       [ 0.70296145,  0.49923329,  1.27598779, -1.95484304],\n",
       "       [ 0.71793037, -0.78718324, -0.2650278 , -0.75199725],\n",
       "       [ 0.73287023,  0.59023843,  0.84322253,  1.78244184],\n",
       "       [ 0.74778127,  0.86107685,  0.72492349,  0.55555544],\n",
       "       [ 0.76266377, -0.39456576, -1.202897  ,  0.41088327],\n",
       "       [ 0.77751796, -0.49688394, -0.42315979,  0.59549238],\n",
       "       [ 0.7923441 ,  0.01904252, -1.65786243, -1.06432036],\n",
       "       [ 0.80714243,  1.05376032, -1.04445327, -1.09108448],\n",
       "       [ 0.82191319,  1.08385578,  1.52012963,  0.80172759],\n",
       "       [ 0.83665661, -1.29143203,  1.09702388, -0.82664429],\n",
       "       [ 0.85137293, -1.1890052 ,  0.30291327, -0.26018131],\n",
       "       [ 0.86606238,  1.44048829, -0.49032576,  0.51910011],\n",
       "       [ 0.88072518, -0.20066619, -0.94246393,  0.95944652],\n",
       "       [ 0.89536155,  0.63022667,  0.15022331, -0.65947105],\n",
       "       [ 0.90997171,  0.35634693,  1.06660903,  0.54749686],\n",
       "       [ 0.92455588,  0.52934487,  0.01065705, -1.02072873],\n",
       "       [ 0.93911428, -1.93163495, -0.66967326, -1.39027462],\n",
       "       [ 0.9536471 , -0.52529469,  1.25638925,  1.02162839],\n",
       "       [ 0.96815455,  0.12428563, -1.74803521, -0.06036496],\n",
       "       [ 0.98263685, -1.75555556,  0.92227141,  0.83468776],\n",
       "       [ 0.99709419, -0.07782712, -0.16835339,  0.41936802],\n",
       "       [ 1.01152676,  0.36906953, -0.18883181,  0.24861364],\n",
       "       [ 1.02593476, -0.62808655,  0.86442562,  0.98031676],\n",
       "       [ 1.04031839,  0.5355598 , -0.18883181,  0.00577961],\n",
       "       [ 1.05467784,  0.2730788 ,  0.91704026, -1.21299201],\n",
       "       [ 1.06901328, -0.24495734, -0.43054692, -1.42418272],\n",
       "       [ 1.08332491,  0.99913782, -1.46007371,  2.02414625],\n",
       "       [ 1.09761291, -1.63286723,  0.95873855, -0.20433701],\n",
       "       [ 1.11187745,  0.72376009, -1.25539136, -0.32921092],\n",
       "       [ 1.12611872,  0.81022423,  0.16886223,  1.25534066],\n",
       "       [ 1.14033688,  1.47405264, -0.75163452, -1.31443661],\n",
       "       [ 1.15453212, -1.11073781, -0.66967326, -0.38855655],\n",
       "       [ 1.16870459,  0.28381064, -0.00229617,  0.91372099],\n",
       "       [ 1.18285448, -1.60118681, -0.05458158, -0.47470116],\n",
       "       [ 1.19698193,  0.32550506, -1.06355551, -0.75931882],\n",
       "       [ 1.21108712,  0.87994389, -1.46007371, -0.73744518],\n",
       "       [ 1.22517021,  1.40493806,  1.51543955,  0.70812926],\n",
       "       [ 1.23923136,  1.13411664,  0.55865764, -0.27722588],\n",
       "       [ 1.25327072,  0.34466429, -0.99747386,  0.44465771],\n",
       "       [ 1.26728845,  1.40306351, -1.60181548, -0.09155822],\n",
       "       [ 1.28128471,  0.29559622, -0.80214864, -0.43732278],\n",
       "       [ 1.29525964,  0.19855946, -1.56152179, -1.12752759],\n",
       "       [ 1.30921339,  0.8411713 , -1.23420066,  0.09434122],\n",
       "       [ 1.32314611, -1.02181379, -1.202897  ,  0.20289058],\n",
       "       [ 1.33705795,  1.50472337,  1.23179329,  1.67770049],\n",
       "       [ 1.35094905,  1.18602318,  0.02356422,  0.21669702],\n",
       "       [ 1.36481956,  0.70554619,  1.33437513, -0.31754553],\n",
       "       [ 1.3786696 ,  0.01009737, -1.62948287,  0.05539471],\n",
       "       [ 1.39249933,  0.56346396,  0.47317073, -0.40063711],\n",
       "       [ 1.40630888,  1.48986416, -0.49032576, -1.63644784],\n",
       "       [ 1.42009838, -1.61787038, -0.62965614, -0.1073197 ],\n",
       "       [ 1.43386797, -1.26812741,  1.13730782, -1.3791681 ],\n",
       "       [ 1.44761778, -0.75956316, -0.73502642, -1.3572358 ],\n",
       "       [ 1.46134795, -1.6461253 , -1.3771472 ,  0.28905461],\n",
       "       [ 1.47505859,  0.30843016,  1.18226883, -1.65023317],\n",
       "       [ 1.48874984,  0.12318696,  0.85383548, -1.3572358 ],\n",
       "       [ 1.50242183, -1.28831146, -1.42394128, -0.68743455],\n",
       "       [ 1.51607467, -0.52157887, -1.28768913, -1.14609038],\n",
       "       [ 1.5297085 ,  0.4165774 , -0.8624742 , -1.31443661],\n",
       "       [ 1.54332343,  1.4675349 ,  1.18226883,  1.51739504],\n",
       "       [ 1.55691958,  0.97562509, -0.92443675, -1.09108448]])"
      ]
     },
     "execution_count": 60,
     "metadata": {},
     "output_type": "execute_result"
    }
   ],
   "source": [
    "from sklearn.preprocessing import power_transform\n",
    "power_transform(x,method='yeo-johnson')             #using yeo-johnson method of power transform removing the skewness."
   ]
  },
  {
   "cell_type": "markdown",
   "id": "7bfa1b10",
   "metadata": {},
   "source": [
    "# Splitting data into training and testing set:"
   ]
  },
  {
   "cell_type": "code",
   "execution_count": 61,
   "id": "5c7777a0",
   "metadata": {},
   "outputs": [],
   "source": [
    "from sklearn.metrics import mean_squared_error,mean_absolute_error\n",
    "from sklearn.model_selection import train_test_split\n",
    "x_train,x_test,y_train,y_test=train_test_split(x,y,random_state=150,test_size=0.33)"
   ]
  },
  {
   "cell_type": "markdown",
   "id": "8e07f30f",
   "metadata": {},
   "source": [
    "# Using Regression models:"
   ]
  },
  {
   "cell_type": "markdown",
   "id": "68a7337a",
   "metadata": {},
   "source": [
    "# 1. Linear Regression:"
   ]
  },
  {
   "cell_type": "code",
   "execution_count": 63,
   "id": "6d573d17",
   "metadata": {},
   "outputs": [],
   "source": [
    "lm=LinearRegression()"
   ]
  },
  {
   "cell_type": "code",
   "execution_count": 64,
   "id": "3dab1702",
   "metadata": {},
   "outputs": [
    {
     "data": {
      "text/plain": [
       "88.3405371452005"
      ]
     },
     "execution_count": 64,
     "metadata": {},
     "output_type": "execute_result"
    }
   ],
   "source": [
    "lm.fit(x_train,y_train)\n",
    "lm.score(x_train,y_train)*100"
   ]
  },
  {
   "cell_type": "markdown",
   "id": "55461cfb",
   "metadata": {},
   "source": [
    "so we are getting 88% model score using a linear regression."
   ]
  },
  {
   "cell_type": "code",
   "execution_count": 65,
   "id": "e592bcb3",
   "metadata": {},
   "outputs": [],
   "source": [
    "pred=lm.predict(x_test)"
   ]
  },
  {
   "cell_type": "markdown",
   "id": "04b1d330",
   "metadata": {},
   "source": [
    "# Errors:"
   ]
  },
  {
   "cell_type": "code",
   "execution_count": 66,
   "id": "2aa0c854",
   "metadata": {},
   "outputs": [
    {
     "name": "stdout",
     "output_type": "stream",
     "text": [
      "error:\n",
      "Mean absolute error: 1.1828262905747444\n",
      "Mean squared error: 2.1405951572019055\n",
      "Root mean squared error: 1.463077290235176\n"
     ]
    }
   ],
   "source": [
    "print(\"error:\")\n",
    "\n",
    "print('Mean absolute error:', mean_absolute_error(y_test,pred))\n",
    "print('Mean squared error:', mean_squared_error(y_test,pred))\n",
    "\n",
    "print('Root mean squared error:', np.sqrt(mean_squared_error(y_test,pred)))"
   ]
  },
  {
   "cell_type": "markdown",
   "id": "44ad0372",
   "metadata": {},
   "source": [
    "We can see that the MAE,MSE and RMSE are all lying in between 1 to 2.2 so the error is also less."
   ]
  },
  {
   "cell_type": "markdown",
   "id": "825d735a",
   "metadata": {},
   "source": [
    "# R2-score:"
   ]
  },
  {
   "cell_type": "code",
   "execution_count": 67,
   "id": "de9fb1e5",
   "metadata": {},
   "outputs": [
    {
     "name": "stdout",
     "output_type": "stream",
     "text": [
      "91.83678199163168\n"
     ]
    }
   ],
   "source": [
    "from sklearn.metrics import r2_score\n",
    "print(r2_score(y_test,pred)*100)"
   ]
  },
  {
   "cell_type": "markdown",
   "id": "a080ce71",
   "metadata": {},
   "source": [
    "# 2.Decision Tree regressor:"
   ]
  },
  {
   "cell_type": "code",
   "execution_count": 69,
   "id": "411645e9",
   "metadata": {},
   "outputs": [
    {
     "name": "stdout",
     "output_type": "stream",
     "text": [
      "1.2922261740301055\n",
      "1.2369316876852983\n",
      "1.3696936175877457\n",
      "1.3446865129768417\n",
      "1.1128042655082397\n",
      "0.9904850357580401\n",
      "1.5346009253222805\n",
      "1.3317793975116015\n",
      "1.0926060034559022\n",
      "1.6215873255996593\n",
      "1.3934369977385654\n",
      "1.2754678286096366\n",
      "1.5108697073961317\n",
      "1.2554125242567107\n",
      "1.2153687556133783\n",
      "1.6357743046513404\n",
      "1.0553614919959315\n",
      "1.3127002011814497\n",
      "1.2912291536643399\n",
      "1.219040854959589\n",
      "1.1900471088205375\n",
      "1.2184814195124067\n",
      "1.224497423187954\n",
      "1.163002905231005\n",
      "1.1042617168923043\n",
      "1.161177563223357\n",
      "1.3052342179227314\n",
      "1.5979153085609181\n",
      "1.3288751223907722\n",
      "1.5708036931533624\n",
      "1.3133925536563698\n",
      "1.259809990483173\n",
      "1.3209271307867383\n",
      "1.0470738447519528\n",
      "1.311025506535963\n",
      "1.3966952336703862\n",
      "1.4245679834230234\n",
      "1.370301891090891\n",
      "0.9878044218151564\n",
      "1.389626066990903\n",
      "1.3698042328608993\n",
      "1.224064268465236\n",
      "1.2233213606878413\n",
      "1.478020789618825\n",
      "1.1622209668378798\n",
      "1.2477859179241033\n",
      "1.5718161662885581\n",
      "1.1587610938960942\n",
      "1.1518101695447331\n",
      "1.1539786248742507\n",
      "1.244259546148559\n",
      "1.4394864404089438\n",
      "1.1057699908784253\n",
      "1.293808097802527\n",
      "1.1140289969568145\n",
      "1.2041594578792296\n",
      "1.3095222353394709\n",
      "1.3806015377583083\n",
      "1.7060942458602855\n",
      "1.2846412068367692\n",
      "1.2131226923385232\n",
      "1.3288751223907724\n",
      "1.4003787366496987\n",
      "1.365927368404915\n",
      "1.3398326444565811\n",
      "1.326592810491782\n",
      "1.1948120176729715\n",
      "1.5317350035864954\n",
      "1.2905836124041172\n",
      "1.079632372896469\n",
      "1.3700807319721027\n",
      "1.2875864195768718\n",
      "1.2867035636097617\n",
      "1.4446872367821388\n",
      "1.1558153359897467\n",
      "1.44783014238968\n",
      "1.3237343869797775\n",
      "0.9993937556278197\n",
      "1.3116032289923012\n",
      "1.4027570255490691\n",
      "1.5670856950905954\n",
      "1.0185402507629449\n",
      "1.2296217698827947\n",
      "1.215929623162808\n",
      "1.2241880425965463\n",
      "1.245598310658437\n",
      "1.6554775929036494\n",
      "1.2352155988966365\n",
      "1.3329734362762753\n",
      "1.2824573948856817\n",
      "1.160851307263664\n",
      "1.3554603377719052\n",
      "1.0480862791225005\n",
      "1.4827799444409693\n",
      "1.2847591449785678\n",
      "1.443375672974064\n",
      "1.3051761752670972\n",
      "1.6968330572694603\n",
      "1.3958271144140066\n",
      "1.2869390510867718\n",
      "1.4145884935417106\n",
      "1.2457199451795664\n",
      "1.546501427954939\n",
      "1.3233337149835338\n",
      "1.584967259006069\n",
      "1.392893217426058\n",
      "1.1375145686712735\n",
      "1.0490255218318314\n",
      "1.1540442720356017\n",
      "1.3470506503266513\n",
      "1.3130464230524788\n",
      "1.1176951392228673\n",
      "1.3339960474249746\n",
      "1.3422053313540188\n",
      "1.2978420317565385\n",
      "1.1754431788336972\n",
      "1.4336328087425418\n",
      "1.301979844372222\n",
      "1.645010822475222\n",
      "1.2661083298953144\n",
      "1.1432940182303115\n",
      "1.2780785768038085\n",
      "1.1095999825216838\n",
      "1.4524795935561265\n",
      "1.356410146249461\n",
      "1.2731492806851405\n",
      "1.3886444229295465\n",
      "1.344010281345956\n",
      "1.2941008344394842\n",
      "1.0465672602862324\n",
      "1.4366944383169682\n",
      "1.3407370202898692\n",
      "0.9983319421247959\n",
      "1.2390734563790113\n",
      "1.0291214258244308\n",
      "1.398971483669775\n",
      "1.3189182895636313\n",
      "1.235338255726182\n",
      "1.2882922687406648\n",
      "1.1153203100183344\n",
      "1.3581404399197656\n",
      "1.1764095349577008\n",
      "1.6724596294443739\n",
      "1.1271444208505603\n",
      "1.0565811073285554\n",
      "1.2993588162371983\n",
      "1.3247641299491766\n",
      "1.2234452099780282\n",
      "0.9461244712782326\n",
      "1.643075460743349\n",
      "1.2987756472224836\n",
      "1.0427237061047032\n",
      "1.0934377259844568\n",
      "1.2048513047951876\n",
      "1.2686786253994562\n",
      "1.1852630445806047\n",
      "1.4558138409130266\n",
      "1.3434464949704863\n",
      "1.4667011015241382\n",
      "1.2917570838344041\n",
      "1.3650396819628847\n",
      "1.0229191739153376\n",
      "1.4986357432375252\n",
      "1.254808931489354\n",
      "1.5226571670881295\n",
      "1.3310966087471567\n",
      "1.2291904209312288\n",
      "1.1179662270607664\n",
      "1.4822178304721938\n",
      "1.6489206754539147\n",
      "1.3845467478455526\n",
      "1.3660382886510194\n",
      "1.5054949855496536\n",
      "1.7295997084629586\n",
      "1.5413984205613716\n",
      "1.3231047050804636\n",
      "1.2889389575785335\n",
      "1.3841089464914151\n",
      "1.364595622197731\n",
      "1.5900257287798265\n",
      "1.212935332658803\n",
      "1.3959899278962864\n",
      "1.0855804200909522\n",
      "1.5104685205310144\n",
      "1.2612523838461416\n",
      "1.1788540917759796\n",
      "1.162351326433022\n",
      "1.0086744977564577\n",
      "1.4913894274274657\n",
      "1.3409630189463906\n",
      "1.1792396111927637\n",
      "1.3642069513312878\n",
      "1.594830664517349\n",
      "1.212185604350233\n",
      "1.2770705113301657\n",
      "1.4933691824701332\n",
      "1.2904074996494383\n",
      "1.3066844463849112\n",
      "1.0661457061146316\n",
      "1.330413469565007\n"
     ]
    }
   ],
   "source": [
    "for i in range(200):\n",
    "    x_train, x_test, y_train, y_test = train_test_split(x, y, test_size=0.33, random_state=i)\n",
    "    from sklearn.tree import DecisionTreeRegressor\n",
    "    dt=DecisionTreeRegressor()\n",
    "    dt.fit(x_train,y_train)\n",
    "    y_pred=dt.predict(x_test)\n",
    "    mse=mean_squared_error(y_test,y_pred)\n",
    "    rmse = np.sqrt(mse)\n",
    "    print(rmse)"
   ]
  },
  {
   "cell_type": "code",
   "execution_count": 70,
   "id": "acf0277c",
   "metadata": {},
   "outputs": [],
   "source": [
    "from sklearn.tree import DecisionTreeRegressor\n",
    "dt = DecisionTreeRegressor()\n",
    "dt.fit(x_train,y_train)\n",
    "y_pred_dt = dt.predict(x_test)"
   ]
  },
  {
   "cell_type": "code",
   "execution_count": 71,
   "id": "2c3fb562",
   "metadata": {},
   "outputs": [
    {
     "data": {
      "text/plain": [
       "array([18.5,  8.6, 10.1, 11. ,  7. , 20.7, 12.9, 12.7, 22.3, 11.9, 17.2,\n",
       "        6.9, 25.5, 22.1, 19.7,  5.5, 24.7, 18.5, 10.7, 16. ,  4.8,  7.3,\n",
       "       12.9, 10.1,  8.7, 25.5, 12.7, 14.4,  3.2, 18.9, 18.9,  6.6, 19. ,\n",
       "       25.5, 11.7, 11.9,  9.7, 19.2, 11. , 21.7, 19.6, 12.2, 19.6, 12.9,\n",
       "       15.2,  9.2, 17.3, 13.6, 18.5,  9.4, 14.4, 15.9,  9.4, 19.7, 22.1,\n",
       "        7.3, 25.4,  7.2, 15.7, 16.6, 19. , 11.7,  7.6, 10.3, 10.9, 14.6])"
      ]
     },
     "execution_count": 71,
     "metadata": {},
     "output_type": "execute_result"
    }
   ],
   "source": [
    "y_pred = dt.predict(x_test)\n",
    "y_pred"
   ]
  },
  {
   "cell_type": "code",
   "execution_count": 72,
   "id": "af8dd0ce",
   "metadata": {},
   "outputs": [
    {
     "name": "stdout",
     "output_type": "stream",
     "text": [
      "100.0 %\n"
     ]
    }
   ],
   "source": [
    "dt_accuracy = round(dt.score(x_train,y_train)*100,2)\n",
    "print(dt_accuracy,\"%\")"
   ]
  },
  {
   "cell_type": "markdown",
   "id": "772f3a02",
   "metadata": {},
   "source": [
    "We can see that our model is having 100% accuracy in a DecisionTreeRegressor(). "
   ]
  },
  {
   "cell_type": "markdown",
   "id": "12e6f852",
   "metadata": {},
   "source": [
    "Let us fit our model in few more regressors and we will pick the one which is giving more accuracy."
   ]
  },
  {
   "cell_type": "markdown",
   "id": "616928c6",
   "metadata": {},
   "source": [
    "# 3.RandomForestRegressor:"
   ]
  },
  {
   "cell_type": "code",
   "execution_count": 73,
   "id": "daa8060f",
   "metadata": {},
   "outputs": [],
   "source": [
    "from sklearn.ensemble import RandomForestRegressor\n",
    "rf = RandomForestRegressor()\n",
    "rf.fit(x_train,y_train)\n",
    "y_pred = rf.predict(x_test)"
   ]
  },
  {
   "cell_type": "code",
   "execution_count": 74,
   "id": "d0f72990",
   "metadata": {},
   "outputs": [
    {
     "data": {
      "text/plain": [
       "array([18.496, 10.333, 10.112, 10.763,  8.113, 20.23 , 12.114, 12.48 ,\n",
       "       22.15 , 12.284, 16.078,  8.317, 24.837, 21.779, 19.709,  6.308,\n",
       "       24.039, 18.93 , 10.35 , 16.535,  5.42 ,  5.813, 12.487, 10.78 ,\n",
       "        9.75 , 24.604, 12.162, 12.445,  5.11 , 19.242, 19.897,  7.077,\n",
       "       19.436, 24.603, 12.026, 12.04 , 10.075, 17.64 , 10.583, 22.235,\n",
       "       19.578, 11.78 , 19.657, 13.444, 14.628,  8.254, 17.098, 11.268,\n",
       "       17.809,  9.821, 13.141, 14.403,  9.375, 19.738, 22.834,  6.546,\n",
       "       24.547,  7.421, 15.504, 16.443, 18.769, 11.989,  8.612, 11.149,\n",
       "       10.133, 13.892])"
      ]
     },
     "execution_count": 74,
     "metadata": {},
     "output_type": "execute_result"
    }
   ],
   "source": [
    "y_pred = rf.predict(x_test)\n",
    "y_pred"
   ]
  },
  {
   "cell_type": "code",
   "execution_count": 75,
   "id": "673ecf70",
   "metadata": {},
   "outputs": [
    {
     "data": {
      "text/plain": [
       "99.56"
      ]
     },
     "execution_count": 75,
     "metadata": {},
     "output_type": "execute_result"
    }
   ],
   "source": [
    "rf_accuracy = round(rf.score(x_train,y_train)*100,2)\n",
    "rf_accuracy"
   ]
  },
  {
   "cell_type": "markdown",
   "id": "a530b89a",
   "metadata": {},
   "source": [
    "Here we are obtaining an accuracy of 99.6%."
   ]
  },
  {
   "cell_type": "markdown",
   "id": "df5a57aa",
   "metadata": {},
   "source": [
    "# 4.Ridge Regressor:"
   ]
  },
  {
   "cell_type": "code",
   "execution_count": 76,
   "id": "42907c7c",
   "metadata": {},
   "outputs": [
    {
     "data": {
      "text/plain": [
       "Ridge(alpha=0.01, normalize=True)"
      ]
     },
     "execution_count": 76,
     "metadata": {},
     "output_type": "execute_result"
    }
   ],
   "source": [
    "from sklearn.linear_model import Ridge\n",
    "ridge_mod=Ridge(alpha=0.01, normalize=True)\n",
    "ridge_mod.fit(x_train, y_train)"
   ]
  },
  {
   "cell_type": "code",
   "execution_count": 77,
   "id": "3c23961d",
   "metadata": {},
   "outputs": [
    {
     "data": {
      "text/plain": [
       "88.04"
      ]
     },
     "execution_count": 77,
     "metadata": {},
     "output_type": "execute_result"
    }
   ],
   "source": [
    "ridge_mod = Ridge(alpha=0.01, normalize=True)\n",
    "ridge_mod.fit(x_train, y_train)\n",
    "ridge_mod.fit(x_test, y_test)\n",
    "ridge_model_pred = ridge_mod.predict(x_test)\n",
    "ridge_accuracy=round(ridge_mod.score(x_train, y_train)*100,2)\n",
    "ridge_accuracy"
   ]
  },
  {
   "cell_type": "markdown",
   "id": "6d9e024e",
   "metadata": {},
   "source": [
    "We are getting an accuracy of 88.04%."
   ]
  },
  {
   "cell_type": "code",
   "execution_count": 78,
   "id": "97b5f2d5",
   "metadata": {},
   "outputs": [
    {
     "name": "stdout",
     "output_type": "stream",
     "text": [
      "89.29\n"
     ]
    }
   ],
   "source": [
    "print(round(ridge_mod.score(x_test, y_test)*100,2))"
   ]
  },
  {
   "cell_type": "code",
   "execution_count": 79,
   "id": "9386746d",
   "metadata": {},
   "outputs": [
    {
     "data": {
      "text/plain": [
       "Text(0, 0.5, 'Predictions')"
      ]
     },
     "execution_count": 79,
     "metadata": {},
     "output_type": "execute_result"
    },
    {
     "data": {
      "image/png": "[encoded data removed]",
      "text/plain": [
       "<Figure size 432x288 with 1 Axes>"
      ]
     },
     "metadata": {
      "needs_background": "light"
     },
     "output_type": "display_data"
    }
   ],
   "source": [
    "#plotting for the ridge_model_pred\n",
    "plt.scatter(y_test, ridge_model_pred)\n",
    "plt.xlabel('True Values')\n",
    "plt.ylabel('Predictions')"
   ]
  },
  {
   "cell_type": "markdown",
   "id": "207d936c",
   "metadata": {},
   "source": [
    "# 5.Support Vector Regressor:"
   ]
  },
  {
   "cell_type": "code",
   "execution_count": 80,
   "id": "39ebfdb9",
   "metadata": {},
   "outputs": [],
   "source": [
    "from sklearn.svm import SVR"
   ]
  },
  {
   "cell_type": "code",
   "execution_count": 81,
   "id": "a93537b8",
   "metadata": {},
   "outputs": [
    {
     "data": {
      "text/plain": [
       "SVR(kernel='linear')"
      ]
     },
     "execution_count": 81,
     "metadata": {},
     "output_type": "execute_result"
    }
   ],
   "source": [
    "svr = SVR(kernel = 'linear')\n",
    "svr.fit(x_train, y_train)\n",
    "svr.fit(x_test, y_test)"
   ]
  },
  {
   "cell_type": "code",
   "execution_count": 82,
   "id": "4f1de082",
   "metadata": {},
   "outputs": [
    {
     "data": {
      "text/plain": [
       "88.83"
      ]
     },
     "execution_count": 82,
     "metadata": {},
     "output_type": "execute_result"
    }
   ],
   "source": [
    "y_train_pred = svr.predict(x_train)\n",
    "y_test_pred = svr.predict(x_test)\n",
    "\n",
    "svr_score=round(svr.score(x_train, y_train)*100,2)\n",
    "svr_score"
   ]
  },
  {
   "cell_type": "markdown",
   "id": "b3612fd1",
   "metadata": {},
   "source": [
    "Here we are getting an accuracy of our training set is 88.83%."
   ]
  },
  {
   "cell_type": "code",
   "execution_count": 83,
   "id": "b8796a60",
   "metadata": {},
   "outputs": [
    {
     "data": {
      "text/plain": [
       "88.42644134329754"
      ]
     },
     "execution_count": 83,
     "metadata": {},
     "output_type": "execute_result"
    }
   ],
   "source": [
    "svr.score(x_test,y_test)*100"
   ]
  },
  {
   "cell_type": "markdown",
   "id": "3749f082",
   "metadata": {},
   "source": [
    "The accuracy of testing set is 88.42%"
   ]
  },
  {
   "cell_type": "markdown",
   "id": "ce21ea7e",
   "metadata": {},
   "source": [
    "# 6.Gradient Booster Regressor:"
   ]
  },
  {
   "cell_type": "code",
   "execution_count": 84,
   "id": "4d55c3b4",
   "metadata": {},
   "outputs": [],
   "source": [
    "from sklearn.ensemble import GradientBoostingRegressor"
   ]
  },
  {
   "cell_type": "code",
   "execution_count": 85,
   "id": "bc7a9e2f",
   "metadata": {},
   "outputs": [
    {
     "data": {
      "text/plain": [
       "GradientBoostingRegressor()"
      ]
     },
     "execution_count": 85,
     "metadata": {},
     "output_type": "execute_result"
    }
   ],
   "source": [
    "gbr = GradientBoostingRegressor()\n",
    "gbr.fit(x_train, y_train)\n",
    "gbr.fit(x_test, y_test)"
   ]
  },
  {
   "cell_type": "code",
   "execution_count": 86,
   "id": "dcb18fef",
   "metadata": {},
   "outputs": [
    {
     "data": {
      "text/plain": [
       "96.7699719197499"
      ]
     },
     "execution_count": 86,
     "metadata": {},
     "output_type": "execute_result"
    }
   ],
   "source": [
    "y_train_pred = gbr.predict(x_train)\n",
    "y_test_pred = gbr.predict(x_test)\n",
    "\n",
    "\n",
    "gbr.score(x_train, y_train)*100"
   ]
  },
  {
   "cell_type": "code",
   "execution_count": 87,
   "id": "9ec91f0f",
   "metadata": {},
   "outputs": [
    {
     "data": {
      "text/plain": [
       "99.9920714245945"
      ]
     },
     "execution_count": 87,
     "metadata": {},
     "output_type": "execute_result"
    }
   ],
   "source": [
    "gbr.score(x_test, y_test)*100"
   ]
  },
  {
   "cell_type": "markdown",
   "id": "68b0d3c0",
   "metadata": {},
   "source": [
    "Here the training set accuracy is 96.77% and the testing set score is 99.99%"
   ]
  },
  {
   "cell_type": "markdown",
   "id": "ced1bb81",
   "metadata": {},
   "source": [
    "# Cross validation:"
   ]
  },
  {
   "cell_type": "code",
   "execution_count": 127,
   "id": "5b615cb7",
   "metadata": {},
   "outputs": [
    {
     "name": "stdout",
     "output_type": "stream",
     "text": [
      "88.27160786305974\n"
     ]
    }
   ],
   "source": [
    "print(cross_val_score(lm,x,y,cv=5).mean()*100)"
   ]
  },
  {
   "cell_type": "code",
   "execution_count": 98,
   "id": "e7254acb",
   "metadata": {},
   "outputs": [
    {
     "name": "stdout",
     "output_type": "stream",
     "text": [
      "94.17669530195276\n"
     ]
    }
   ],
   "source": [
    "print(cross_val_score(dt,x,y,cv=5).mean()*100)"
   ]
  },
  {
   "cell_type": "code",
   "execution_count": 90,
   "id": "876176e1",
   "metadata": {},
   "outputs": [
    {
     "name": "stdout",
     "output_type": "stream",
     "text": [
      "97.29386487228633\n"
     ]
    }
   ],
   "source": [
    "print(cross_val_score(rf,x,y,cv=5).mean()*100)"
   ]
  },
  {
   "cell_type": "code",
   "execution_count": 91,
   "id": "a557e02c",
   "metadata": {},
   "outputs": [
    {
     "name": "stdout",
     "output_type": "stream",
     "text": [
      "88.28438792148307\n"
     ]
    }
   ],
   "source": [
    "print(cross_val_score(ridge_mod,x,y,cv=5).mean()*100)"
   ]
  },
  {
   "cell_type": "code",
   "execution_count": 92,
   "id": "9c42aea9",
   "metadata": {},
   "outputs": [
    {
     "name": "stdout",
     "output_type": "stream",
     "text": [
      "87.78311370584501\n"
     ]
    }
   ],
   "source": [
    "print(cross_val_score(svr,x,y,cv=5).mean()*100)"
   ]
  },
  {
   "cell_type": "code",
   "execution_count": 93,
   "id": "c518db5c",
   "metadata": {},
   "outputs": [
    {
     "name": "stdout",
     "output_type": "stream",
     "text": [
      "97.80528380342182\n"
     ]
    }
   ],
   "source": [
    "print(cross_val_score(gbr,x,y,cv=5).mean()*100)"
   ]
  },
  {
   "cell_type": "markdown",
   "id": "fea13d23",
   "metadata": {},
   "source": [
    "Though we are getting 100% accuracy in Decision Tree the cross validation score is less. So we can see that the linear regression model accuracy and the cross validation score are similar we will choose Linear Regression model as the best suit for the present model."
   ]
  },
  {
   "cell_type": "markdown",
   "id": "a2c308bb",
   "metadata": {},
   "source": [
    "# Hyper Parameter tuning:"
   ]
  },
  {
   "cell_type": "code",
   "execution_count": 128,
   "id": "f3e660e5",
   "metadata": {},
   "outputs": [
    {
     "data": {
      "text/plain": [
       "GridSearchCV(cv=5, estimator=LinearRegression(),\n",
       "             param_grid={'copy_X': [True, False],\n",
       "                         'fit_intercept': [True, False],\n",
       "                         'n_jobs': [0.1, 0.22, -1, -2],\n",
       "                         'normalize': [False, True],\n",
       "                         'positive': [False, True]})"
      ]
     },
     "execution_count": 128,
     "metadata": {},
     "output_type": "execute_result"
    }
   ],
   "source": [
    "#we are tuning five hyperparameters  right now, we are passing different values for those parameters\n",
    "parameters = { \"fit_intercept\":[True,False], \n",
    "              \"normalize\":[False,True], \n",
    "              \"copy_X\":[True,False], \n",
    "              \"n_jobs\":[0.1,0.22,-1,-2], \n",
    "              \"positive\":[False,True]\n",
    "              }\n",
    "grid = GridSearchCV(estimator=lm, param_grid = parameters, cv = 5)\n",
    "grid.fit(x_train, y_train)"
   ]
  },
  {
   "cell_type": "code",
   "execution_count": 129,
   "id": "321511ee",
   "metadata": {},
   "outputs": [
    {
     "name": "stdout",
     "output_type": "stream",
     "text": [
      "{'copy_X': True, 'fit_intercept': True, 'n_jobs': -1, 'normalize': True, 'positive': True}\n"
     ]
    }
   ],
   "source": [
    "best_parameters=grid.best_params_\n",
    "print(best_parameters)"
   ]
  },
  {
   "cell_type": "code",
   "execution_count": 130,
   "id": "ffb16ef2",
   "metadata": {},
   "outputs": [
    {
     "data": {
      "text/plain": [
       "88.14814280275804"
      ]
     },
     "execution_count": 130,
     "metadata": {},
     "output_type": "execute_result"
    }
   ],
   "source": [
    "(grid.best_score_)*100"
   ]
  },
  {
   "cell_type": "code",
   "execution_count": 131,
   "id": "5dd65241",
   "metadata": {},
   "outputs": [
    {
     "data": {
      "text/plain": [
       "LinearRegression(n_jobs=-1, normalize=True, positive=True)"
      ]
     },
     "execution_count": 131,
     "metadata": {},
     "output_type": "execute_result"
    }
   ],
   "source": [
    "clf=LinearRegression(fit_intercept=True, n_jobs= -1, normalize= True, positive= True)\n",
    "clf.fit(x_train,y_train)"
   ]
  },
  {
   "cell_type": "code",
   "execution_count": 132,
   "id": "10f689df",
   "metadata": {},
   "outputs": [
    {
     "data": {
      "text/plain": [
       "88.05280655009696"
      ]
     },
     "execution_count": 132,
     "metadata": {},
     "output_type": "execute_result"
    }
   ],
   "source": [
    "clf.score(x_test,y_test)*100"
   ]
  },
  {
   "cell_type": "markdown",
   "id": "42ca3392",
   "metadata": {},
   "source": [
    "We are getting 88.05% which is 0.22% less than the CV score so our model is working better even without using a hyper parameters.\n",
    "Thus we obtained a proper model."
   ]
  },
  {
   "cell_type": "markdown",
   "id": "312da21b",
   "metadata": {},
   "source": [
    "# Further Evaluation:"
   ]
  },
  {
   "cell_type": "code",
   "execution_count": 133,
   "id": "a948619c",
   "metadata": {},
   "outputs": [
    {
     "name": "stdout",
     "output_type": "stream",
     "text": [
      "88.4414507291169\n"
     ]
    }
   ],
   "source": [
    "Final_mod = LinearRegression()\n",
    "Final_mod.fit(x_train,y_train)\n",
    "pred = Final_mod.predict(x_test)\n",
    "print((lm.score(x_test,y_test)*100))"
   ]
  },
  {
   "cell_type": "markdown",
   "id": "b988d6c0",
   "metadata": {},
   "source": [
    "# Saving the best model:"
   ]
  },
  {
   "cell_type": "code",
   "execution_count": 136,
   "id": "e5183bdc",
   "metadata": {},
   "outputs": [
    {
     "name": "stdout",
     "output_type": "stream",
     "text": [
      "Model saved\n"
     ]
    }
   ],
   "source": [
    "import pickle\n",
    "filename = 'Finalmodel.pkl'\n",
    "pickle.dump(Final_mod, open(filename,\"wb\"))\n",
    "print(\"Model saved\")"
   ]
  },
  {
   "cell_type": "markdown",
   "id": "b3091121",
   "metadata": {},
   "source": [
    "# Conclusion:"
   ]
  },
  {
   "cell_type": "code",
   "execution_count": 146,
   "id": "2da98751",
   "metadata": {},
   "outputs": [
    {
     "name": "stdout",
     "output_type": "stream",
     "text": [
      "Predicted sales: [[18.59646877]\n",
      " [ 8.79912771]\n",
      " [ 9.85541237]\n",
      " [ 9.97516451]\n",
      " [ 8.88525826]\n",
      " [19.87399499]\n",
      " [10.57447196]\n",
      " [16.81332971]\n",
      " [20.86642568]\n",
      " [13.71808016]\n",
      " [15.52835537]\n",
      " [ 9.08044819]\n",
      " [24.06061441]\n",
      " [21.10155579]\n",
      " [20.27538069]\n",
      " [ 6.44433598]\n",
      " [23.24596163]\n",
      " [18.24703409]\n",
      " [ 8.75696045]\n",
      " [16.98295086]\n",
      " [ 8.58423519]\n",
      " [10.58896743]\n",
      " [11.26044403]\n",
      " [11.72374612]\n",
      " [ 7.53582899]\n",
      " [24.77318422]\n",
      " [15.41077225]\n",
      " [11.11719216]\n",
      " [ 8.90745087]\n",
      " [18.89950395]\n",
      " [20.26655755]\n",
      " [ 7.72533648]\n",
      " [17.94189512]\n",
      " [24.00969827]\n",
      " [11.9621743 ]\n",
      " [12.47020884]]\n",
      "Actual Sales: [[19.6]\n",
      " [10.6]\n",
      " [ 9.6]\n",
      " [10.1]\n",
      " [ 8.5]\n",
      " [21.2]\n",
      " [12.4]\n",
      " [12.8]\n",
      " [22.6]\n",
      " [11.7]\n",
      " [15.9]\n",
      " [ 9.5]\n",
      " [26.2]\n",
      " [21.8]\n",
      " [20.7]\n",
      " [ 5.6]\n",
      " [25.4]\n",
      " [19. ]\n",
      " [ 9.7]\n",
      " [18. ]\n",
      " [ 5.7]\n",
      " [ 1.6]\n",
      " [11.9]\n",
      " [11.8]\n",
      " [ 9.6]\n",
      " [27. ]\n",
      " [12. ]\n",
      " [11.9]\n",
      " [ 5.3]\n",
      " [18.9]\n",
      " [20.2]\n",
      " [ 7.6]\n",
      " [18. ]\n",
      " [25.4]\n",
      " [11.7]\n",
      " [11.4]]\n"
     ]
    }
   ],
   "source": [
    "preds = lm.predict(x_test)\n",
    "dataframe=pd.DataFrame({})\n",
    "print(\"Predicted sales:\",preds[:36])\n",
    "print(\"Actual Sales:\",y_test[0:36].values)"
   ]
  },
  {
   "cell_type": "markdown",
   "id": "4c673ed3",
   "metadata": {},
   "source": [
    "The train and test data is balanced most regression methods hit the 88.4% accuracy with the dataset."
   ]
  },
  {
   "cell_type": "code",
   "execution_count": null,
   "id": "721d9db1",
   "metadata": {},
   "outputs": [],
   "source": []
  }
 ],
 "metadata": {
  "kernelspec": {
   "display_name": "Python 3",
   "language": "python",
   "name": "python3"
  },
  "language_info": {
   "codemirror_mode": {
    "name": "ipython",
    "version": 3
   },
   "file_extension": ".py",
   "mimetype": "text/x-python",
   "name": "python",
   "nbconvert_exporter": "python",
   "pygments_lexer": "ipython3",
   "version": "3.8.8"
  }
 },
 "nbformat": 4,
 "nbformat_minor": 5
}
